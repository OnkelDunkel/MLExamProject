{
 "cells": [
  {
   "cell_type": "markdown",
   "metadata": {},
   "source": [
    "# Data preprocessing\n",
    "\n",
    "#### This notebook contains some of the code for the data preprocessing for cleaning and preparing the text values.\n",
    "#### The output of the notebook results in a file named *all_processed.csv* containing the processed data.\n",
    "#### Be aware that running the entire notebook will take some time depending on the performance of your computer. For our computer it took around 1 1/2 hour."
   ]
  },
  {
   "cell_type": "code",
   "execution_count": 1,
   "metadata": {},
   "outputs": [
    {
     "name": "stdout",
     "output_type": "stream",
     "text": [
      "Populating the interactive namespace from numpy and matplotlib\n"
     ]
    }
   ],
   "source": [
    "%pylab inline\n",
    "import pandas as pd"
   ]
  },
  {
   "cell_type": "code",
   "execution_count": 2,
   "metadata": {},
   "outputs": [],
   "source": [
    "df = pd.read_csv(\"employee_reviews.csv\")"
   ]
  },
  {
   "cell_type": "code",
   "execution_count": 3,
   "metadata": {
    "scrolled": false
   },
   "outputs": [
    {
     "data": {
      "text/html": [
       "<div>\n",
       "<style scoped>\n",
       "    .dataframe tbody tr th:only-of-type {\n",
       "        vertical-align: middle;\n",
       "    }\n",
       "\n",
       "    .dataframe tbody tr th {\n",
       "        vertical-align: top;\n",
       "    }\n",
       "\n",
       "    .dataframe thead th {\n",
       "        text-align: right;\n",
       "    }\n",
       "</style>\n",
       "<table border=\"1\" class=\"dataframe\">\n",
       "  <thead>\n",
       "    <tr style=\"text-align: right;\">\n",
       "      <th></th>\n",
       "      <th>Unnamed: 0</th>\n",
       "      <th>company</th>\n",
       "      <th>location</th>\n",
       "      <th>dates</th>\n",
       "      <th>job-title</th>\n",
       "      <th>summary</th>\n",
       "      <th>pros</th>\n",
       "      <th>cons</th>\n",
       "      <th>advice-to-mgmt</th>\n",
       "      <th>overall-ratings</th>\n",
       "      <th>work-balance-stars</th>\n",
       "      <th>culture-values-stars</th>\n",
       "      <th>carrer-opportunities-stars</th>\n",
       "      <th>comp-benefit-stars</th>\n",
       "      <th>senior-mangemnet-stars</th>\n",
       "      <th>helpful-count</th>\n",
       "      <th>link</th>\n",
       "    </tr>\n",
       "  </thead>\n",
       "  <tbody>\n",
       "    <tr>\n",
       "      <th>0</th>\n",
       "      <td>1</td>\n",
       "      <td>google</td>\n",
       "      <td>none</td>\n",
       "      <td>Dec 11, 2018</td>\n",
       "      <td>Current Employee - Anonymous Employee</td>\n",
       "      <td>Best Company to work for</td>\n",
       "      <td>People are smart and friendly</td>\n",
       "      <td>Bureaucracy is slowing things down</td>\n",
       "      <td>none</td>\n",
       "      <td>5.0</td>\n",
       "      <td>4.0</td>\n",
       "      <td>5.0</td>\n",
       "      <td>5.0</td>\n",
       "      <td>4.0</td>\n",
       "      <td>5.0</td>\n",
       "      <td>0</td>\n",
       "      <td>https://www.glassdoor.com/Reviews/Google-Revie...</td>\n",
       "    </tr>\n",
       "  </tbody>\n",
       "</table>\n",
       "</div>"
      ],
      "text/plain": [
       "   Unnamed: 0 company location          dates  \\\n",
       "0           1  google     none   Dec 11, 2018   \n",
       "\n",
       "                               job-title                   summary  \\\n",
       "0  Current Employee - Anonymous Employee  Best Company to work for   \n",
       "\n",
       "                            pros                                cons  \\\n",
       "0  People are smart and friendly  Bureaucracy is slowing things down   \n",
       "\n",
       "  advice-to-mgmt  overall-ratings work-balance-stars culture-values-stars  \\\n",
       "0           none              5.0                4.0                  5.0   \n",
       "\n",
       "  carrer-opportunities-stars comp-benefit-stars senior-mangemnet-stars  \\\n",
       "0                        5.0                4.0                    5.0   \n",
       "\n",
       "   helpful-count                                               link  \n",
       "0              0  https://www.glassdoor.com/Reviews/Google-Revie...  "
      ]
     },
     "execution_count": 3,
     "metadata": {},
     "output_type": "execute_result"
    }
   ],
   "source": [
    "df.head(1)"
   ]
  },
  {
   "cell_type": "markdown",
   "metadata": {},
   "source": [
    "### Some rows contained empty values and some contained string values with the text \"*none*\". We made a method for removing these values for a given column"
   ]
  },
  {
   "cell_type": "code",
   "execution_count": 4,
   "metadata": {},
   "outputs": [
    {
     "data": {
      "text/plain": [
       "67529"
      ]
     },
     "execution_count": 4,
     "metadata": {},
     "output_type": "execute_result"
    }
   ],
   "source": [
    "df.count()[0]"
   ]
  },
  {
   "cell_type": "code",
   "execution_count": 5,
   "metadata": {},
   "outputs": [],
   "source": [
    "def clean_by_clmn(df, clmn_name):\n",
    "    df = df[df[clmn_name] != \"none\"]\n",
    "    df = df[df[clmn_name] != \"\"]\n",
    "    df = df[df[clmn_name].notna()]\n",
    "    return df"
   ]
  },
  {
   "cell_type": "code",
   "execution_count": 6,
   "metadata": {},
   "outputs": [],
   "source": [
    "df = clean_by_clmn(df, \"summary\")\n",
    "df = df = clean_by_clmn(df, \"pros\")\n",
    "df = clean_by_clmn(df, \"cons\")"
   ]
  },
  {
   "cell_type": "markdown",
   "metadata": {},
   "source": [
    "After applying the function for the *summary*, *\"pros\"* and \"*cons*\" columns only 10 rows had been removed."
   ]
  },
  {
   "cell_type": "code",
   "execution_count": 7,
   "metadata": {},
   "outputs": [
    {
     "data": {
      "text/plain": [
       "67399"
      ]
     },
     "execution_count": 7,
     "metadata": {},
     "output_type": "execute_result"
    }
   ],
   "source": [
    "df.count()[0]"
   ]
  },
  {
   "cell_type": "markdown",
   "metadata": {},
   "source": [
    "### We used the Natural Language Toolkit for removing stopwords and stemming"
   ]
  },
  {
   "cell_type": "code",
   "execution_count": 8,
   "metadata": {},
   "outputs": [
    {
     "name": "stderr",
     "output_type": "stream",
     "text": [
      "[nltk_data] Downloading package stopwords to /home/ras/nltk_data...\n",
      "[nltk_data]   Package stopwords is already up-to-date!\n"
     ]
    }
   ],
   "source": [
    "import re #regular expression\n",
    "import nltk\n",
    "nltk.download(\"stopwords\") # THE IN YOU FOR\n",
    "from nltk.corpus import stopwords\n",
    "from nltk.stem.porter import PorterStemmer\n",
    "\n",
    "stopwords = set(stopwords.words(\"english\"))\n",
    "ps = PorterStemmer()"
   ]
  },
  {
   "cell_type": "markdown",
   "metadata": {},
   "source": [
    "### We also wants wanted to remove company names from the review so that the text will not be biased by mentioning any of the companies that we trained on"
   ]
  },
  {
   "cell_type": "code",
   "execution_count": 9,
   "metadata": {},
   "outputs": [
    {
     "data": {
      "text/plain": [
       "['google', 'amazon', 'facebook', 'netflix', 'apple', 'microsoft']"
      ]
     },
     "execution_count": 9,
     "metadata": {},
     "output_type": "execute_result"
    }
   ],
   "source": [
    "companies = [c.lower() for c in df[\"company\"].unique()]\n",
    "companies"
   ]
  },
  {
   "cell_type": "markdown",
   "metadata": {},
   "source": [
    "### The below function the reason the note book takes a long time to run on all the data\n",
    "In the *clean_text_serie()* function the text data goes through following steps:\n",
    "\n",
    "1. Making all characters lowercase.\n",
    "2. Removing all non-a-z characters.\n",
    "3. Removal of stop words.\n",
    "\n",
    "Due to the long processing time for the function a time estimater was also added."
   ]
  },
  {
   "cell_type": "code",
   "execution_count": 10,
   "metadata": {},
   "outputs": [],
   "source": [
    "def clean_text_serie(df, serie_name):\n",
    "    print(\"clean_text_serie() is going to take some time...\")\n",
    "    \n",
    "    processed_clmn_key = serie_name + \"_processed\"\n",
    "    char_length_key = serie_name + \"_char_length\"\n",
    "    word_count_key = serie_name + \"_word_count\"\n",
    "    stopword_count_key = serie_name + \"_stopword_count\"\n",
    "    stopword_freq_key = serie_name + \"_stopword_freq\"\n",
    "    \n",
    "    df[processed_clmn_key] = \"\"\n",
    "    df[char_length_key] = np.nan\n",
    "    df[word_count_key] = np.nan\n",
    "    df[stopword_count_key] = np.nan\n",
    "    df[stopword_freq_key] = np.nan\n",
    "    \n",
    "    \n",
    "    j = 1000\n",
    "    start_time = time.time()\n",
    "    df_count = df.count()[0]\n",
    "    for i, row in df.iterrows():\n",
    "        \n",
    "        if (i == j):\n",
    "            up_time = (time.time() - start_time)/60\n",
    "            \n",
    "            remaining = int((up_time * (df_count/i)) - up_time)\n",
    "            \n",
    "            print(\"{0}/{1} - {2} minutes since start - estimate: {3} minutes left\"\n",
    "                  .format(i,df_count,int(up_time),remaining))\n",
    "            j+=1000\n",
    "            \n",
    "        cleaned = df[serie_name][i]\n",
    "        # \"Bob is, happy for Facebook!\"\"\"\n",
    "        \n",
    "        char_length = len(cleaned)\n",
    "        \n",
    "        cleaned = cleaned.lower()\n",
    "        # \"bob is, happy for facebook!\"\n",
    "        cleaned = re.sub(\"[^a-z]\", \" \", cleaned)\n",
    "        # \"bob is  happy for facebook \"\n",
    "        cleaned = cleaned.split()\n",
    "        # [\"bob\", \"is\", \"happy\", \"for\", \"facebook\"]\n",
    "        \n",
    "        word_count = len(cleaned)\n",
    "        \n",
    "        cleaned = [word for word in cleaned if not word in stopwords]\n",
    "        # [\"bob\", \"happy\", \"facebook\"]\n",
    "        \n",
    "        stopword_count = word_count - len(cleaned)\n",
    "        stopword_freq = 0\n",
    "        if stopword_count > 0:\n",
    "            stopword_freq = stopword_count / word_count\n",
    "            \n",
    "        \n",
    "        cleaned = [ps.stem(word) for word in cleaned if not word in companies]\n",
    "        # [\"bob\", \"happi\"]\n",
    "        \n",
    "        df[processed_clmn_key][i] = \" \".join(cleaned)\n",
    "        # \"bob happi\"\n",
    "        \n",
    "        df[char_length_key][i] = char_length # character length of original text\n",
    "        df[word_count_key][i] = word_count # word count of original text\n",
    "        df[stopword_count_key][i] = stopword_count # number of stopwords in original text\n",
    "        df[stopword_freq_key][i] = stopword_freq # frequency of stopwords in original text\n",
    "    \n",
    "    print(\"clean_text_serie() is finished!\")\n",
    "    print(\"It took a total of {0} minutes to process '{1}' column\"\n",
    "          .format((time.time() - start_time)/60, serie_name))\n",
    "    return df"
   ]
  },
  {
   "cell_type": "code",
   "execution_count": 11,
   "metadata": {},
   "outputs": [
    {
     "data": {
      "text/plain": [
       "67399"
      ]
     },
     "execution_count": 11,
     "metadata": {},
     "output_type": "execute_result"
    }
   ],
   "source": [
    "serie = df[\"summary\"]\n",
    "serie.count()"
   ]
  },
  {
   "cell_type": "code",
   "execution_count": 12,
   "metadata": {},
   "outputs": [
    {
     "data": {
      "text/plain": [
       "0                             Best Company to work for\n",
       "1    Moving at the speed of light, burn out is inev...\n",
       "2    Great balance between big-company security and...\n",
       "3    The best place I've worked and also the most d...\n",
       "4                      Unique, one of a kind dream job\n",
       "Name: summary, dtype: object"
      ]
     },
     "execution_count": 12,
     "metadata": {},
     "output_type": "execute_result"
    }
   ],
   "source": [
    "df.head()[\"summary\"]"
   ]
  },
  {
   "cell_type": "code",
   "execution_count": 13,
   "metadata": {},
   "outputs": [
    {
     "name": "stdout",
     "output_type": "stream",
     "text": [
      "clean_text_serie() is going to take some time...\n"
     ]
    },
    {
     "name": "stderr",
     "output_type": "stream",
     "text": [
      "/usr/lib/python3/dist-packages/ipykernel_launcher.py:57: SettingWithCopyWarning: \n",
      "A value is trying to be set on a copy of a slice from a DataFrame\n",
      "\n",
      "See the caveats in the documentation: http://pandas.pydata.org/pandas-docs/stable/indexing.html#indexing-view-versus-copy\n",
      "/usr/lib/python3/dist-packages/ipykernel_launcher.py:60: SettingWithCopyWarning: \n",
      "A value is trying to be set on a copy of a slice from a DataFrame\n",
      "\n",
      "See the caveats in the documentation: http://pandas.pydata.org/pandas-docs/stable/indexing.html#indexing-view-versus-copy\n",
      "/usr/lib/python3/dist-packages/ipykernel_launcher.py:61: SettingWithCopyWarning: \n",
      "A value is trying to be set on a copy of a slice from a DataFrame\n",
      "\n",
      "See the caveats in the documentation: http://pandas.pydata.org/pandas-docs/stable/indexing.html#indexing-view-versus-copy\n",
      "/usr/lib/python3/dist-packages/ipykernel_launcher.py:62: SettingWithCopyWarning: \n",
      "A value is trying to be set on a copy of a slice from a DataFrame\n",
      "\n",
      "See the caveats in the documentation: http://pandas.pydata.org/pandas-docs/stable/indexing.html#indexing-view-versus-copy\n",
      "/usr/lib/python3/dist-packages/ipykernel_launcher.py:63: SettingWithCopyWarning: \n",
      "A value is trying to be set on a copy of a slice from a DataFrame\n",
      "\n",
      "See the caveats in the documentation: http://pandas.pydata.org/pandas-docs/stable/indexing.html#indexing-view-versus-copy\n"
     ]
    },
    {
     "name": "stdout",
     "output_type": "stream",
     "text": [
      "clean_text_serie() is finished!\n",
      "It took a total of 0.02358227570851644 minutes to process 'summary' column\n"
     ]
    }
   ],
   "source": [
    "df = clean_text_serie(df, \"summary\")"
   ]
  },
  {
   "cell_type": "code",
   "execution_count": 14,
   "metadata": {},
   "outputs": [
    {
     "data": {
      "text/html": [
       "<div>\n",
       "<style scoped>\n",
       "    .dataframe tbody tr th:only-of-type {\n",
       "        vertical-align: middle;\n",
       "    }\n",
       "\n",
       "    .dataframe tbody tr th {\n",
       "        vertical-align: top;\n",
       "    }\n",
       "\n",
       "    .dataframe thead th {\n",
       "        text-align: right;\n",
       "    }\n",
       "</style>\n",
       "<table border=\"1\" class=\"dataframe\">\n",
       "  <thead>\n",
       "    <tr style=\"text-align: right;\">\n",
       "      <th></th>\n",
       "      <th>Unnamed: 0</th>\n",
       "      <th>company</th>\n",
       "      <th>location</th>\n",
       "      <th>dates</th>\n",
       "      <th>job-title</th>\n",
       "      <th>summary</th>\n",
       "      <th>pros</th>\n",
       "      <th>cons</th>\n",
       "      <th>advice-to-mgmt</th>\n",
       "      <th>overall-ratings</th>\n",
       "      <th>...</th>\n",
       "      <th>carrer-opportunities-stars</th>\n",
       "      <th>comp-benefit-stars</th>\n",
       "      <th>senior-mangemnet-stars</th>\n",
       "      <th>helpful-count</th>\n",
       "      <th>link</th>\n",
       "      <th>summary_processed</th>\n",
       "      <th>summary_char_length</th>\n",
       "      <th>summary_word_count</th>\n",
       "      <th>summary_stopword_count</th>\n",
       "      <th>summary_stopword_freq</th>\n",
       "    </tr>\n",
       "  </thead>\n",
       "  <tbody>\n",
       "    <tr>\n",
       "      <th>0</th>\n",
       "      <td>1</td>\n",
       "      <td>google</td>\n",
       "      <td>none</td>\n",
       "      <td>Dec 11, 2018</td>\n",
       "      <td>Current Employee - Anonymous Employee</td>\n",
       "      <td>Best Company to work for</td>\n",
       "      <td>People are smart and friendly</td>\n",
       "      <td>Bureaucracy is slowing things down</td>\n",
       "      <td>none</td>\n",
       "      <td>5.0</td>\n",
       "      <td>...</td>\n",
       "      <td>5.0</td>\n",
       "      <td>4.0</td>\n",
       "      <td>5.0</td>\n",
       "      <td>0</td>\n",
       "      <td>https://www.glassdoor.com/Reviews/Google-Revie...</td>\n",
       "      <td>best compani work</td>\n",
       "      <td>24.0</td>\n",
       "      <td>5.0</td>\n",
       "      <td>2.0</td>\n",
       "      <td>0.4</td>\n",
       "    </tr>\n",
       "  </tbody>\n",
       "</table>\n",
       "<p>1 rows × 22 columns</p>\n",
       "</div>"
      ],
      "text/plain": [
       "   Unnamed: 0 company location          dates  \\\n",
       "0           1  google     none   Dec 11, 2018   \n",
       "\n",
       "                               job-title                   summary  \\\n",
       "0  Current Employee - Anonymous Employee  Best Company to work for   \n",
       "\n",
       "                            pros                                cons  \\\n",
       "0  People are smart and friendly  Bureaucracy is slowing things down   \n",
       "\n",
       "  advice-to-mgmt  overall-ratings  ... carrer-opportunities-stars  \\\n",
       "0           none              5.0  ...                        5.0   \n",
       "\n",
       "  comp-benefit-stars senior-mangemnet-stars helpful-count  \\\n",
       "0                4.0                    5.0             0   \n",
       "\n",
       "                                                link  summary_processed  \\\n",
       "0  https://www.glassdoor.com/Reviews/Google-Revie...  best compani work   \n",
       "\n",
       "  summary_char_length summary_word_count  summary_stopword_count  \\\n",
       "0                24.0                5.0                     2.0   \n",
       "\n",
       "   summary_stopword_freq  \n",
       "0                    0.4  \n",
       "\n",
       "[1 rows x 22 columns]"
      ]
     },
     "execution_count": 14,
     "metadata": {},
     "output_type": "execute_result"
    }
   ],
   "source": [
    "df.head(1)"
   ]
  },
  {
   "cell_type": "code",
   "execution_count": 15,
   "metadata": {},
   "outputs": [
    {
     "name": "stdout",
     "output_type": "stream",
     "text": [
      "clean_text_serie() is going to take some time...\n"
     ]
    },
    {
     "name": "stderr",
     "output_type": "stream",
     "text": [
      "/usr/lib/python3/dist-packages/ipykernel_launcher.py:57: SettingWithCopyWarning: \n",
      "A value is trying to be set on a copy of a slice from a DataFrame\n",
      "\n",
      "See the caveats in the documentation: http://pandas.pydata.org/pandas-docs/stable/indexing.html#indexing-view-versus-copy\n",
      "/usr/lib/python3/dist-packages/ipykernel_launcher.py:60: SettingWithCopyWarning: \n",
      "A value is trying to be set on a copy of a slice from a DataFrame\n",
      "\n",
      "See the caveats in the documentation: http://pandas.pydata.org/pandas-docs/stable/indexing.html#indexing-view-versus-copy\n",
      "/usr/lib/python3/dist-packages/ipykernel_launcher.py:61: SettingWithCopyWarning: \n",
      "A value is trying to be set on a copy of a slice from a DataFrame\n",
      "\n",
      "See the caveats in the documentation: http://pandas.pydata.org/pandas-docs/stable/indexing.html#indexing-view-versus-copy\n",
      "/usr/lib/python3/dist-packages/ipykernel_launcher.py:62: SettingWithCopyWarning: \n",
      "A value is trying to be set on a copy of a slice from a DataFrame\n",
      "\n",
      "See the caveats in the documentation: http://pandas.pydata.org/pandas-docs/stable/indexing.html#indexing-view-versus-copy\n",
      "/usr/lib/python3/dist-packages/ipykernel_launcher.py:63: SettingWithCopyWarning: \n",
      "A value is trying to be set on a copy of a slice from a DataFrame\n",
      "\n",
      "See the caveats in the documentation: http://pandas.pydata.org/pandas-docs/stable/indexing.html#indexing-view-versus-copy\n"
     ]
    },
    {
     "name": "stdout",
     "output_type": "stream",
     "text": [
      "clean_text_serie() is finished!\n",
      "It took a total of 0.023672839005788166 minutes to process 'pros' column\n"
     ]
    }
   ],
   "source": [
    "df = clean_text_serie(df, \"pros\")"
   ]
  },
  {
   "cell_type": "code",
   "execution_count": 16,
   "metadata": {},
   "outputs": [
    {
     "name": "stdout",
     "output_type": "stream",
     "text": [
      "clean_text_serie() is going to take some time...\n"
     ]
    },
    {
     "name": "stderr",
     "output_type": "stream",
     "text": [
      "/usr/lib/python3/dist-packages/ipykernel_launcher.py:57: SettingWithCopyWarning: \n",
      "A value is trying to be set on a copy of a slice from a DataFrame\n",
      "\n",
      "See the caveats in the documentation: http://pandas.pydata.org/pandas-docs/stable/indexing.html#indexing-view-versus-copy\n",
      "/usr/lib/python3/dist-packages/ipykernel_launcher.py:60: SettingWithCopyWarning: \n",
      "A value is trying to be set on a copy of a slice from a DataFrame\n",
      "\n",
      "See the caveats in the documentation: http://pandas.pydata.org/pandas-docs/stable/indexing.html#indexing-view-versus-copy\n",
      "/usr/lib/python3/dist-packages/ipykernel_launcher.py:61: SettingWithCopyWarning: \n",
      "A value is trying to be set on a copy of a slice from a DataFrame\n",
      "\n",
      "See the caveats in the documentation: http://pandas.pydata.org/pandas-docs/stable/indexing.html#indexing-view-versus-copy\n",
      "/usr/lib/python3/dist-packages/ipykernel_launcher.py:62: SettingWithCopyWarning: \n",
      "A value is trying to be set on a copy of a slice from a DataFrame\n",
      "\n",
      "See the caveats in the documentation: http://pandas.pydata.org/pandas-docs/stable/indexing.html#indexing-view-versus-copy\n",
      "/usr/lib/python3/dist-packages/ipykernel_launcher.py:63: SettingWithCopyWarning: \n",
      "A value is trying to be set on a copy of a slice from a DataFrame\n",
      "\n",
      "See the caveats in the documentation: http://pandas.pydata.org/pandas-docs/stable/indexing.html#indexing-view-versus-copy\n"
     ]
    },
    {
     "name": "stdout",
     "output_type": "stream",
     "text": [
      "clean_text_serie() is finished!\n",
      "It took a total of 0.021798606713612875 minutes to process 'cons' column\n"
     ]
    }
   ],
   "source": [
    "df = clean_text_serie(df, \"cons\")"
   ]
  },
  {
   "cell_type": "code",
   "execution_count": 17,
   "metadata": {},
   "outputs": [],
   "source": [
    "df[\"text\"] = df[\"summary\"].str.cat(df[\"pros\"].str.cat(df[\"cons\"],sep=\" \"),sep=\" \")"
   ]
  },
  {
   "cell_type": "code",
   "execution_count": 18,
   "metadata": {},
   "outputs": [
    {
     "name": "stdout",
     "output_type": "stream",
     "text": [
      "clean_text_serie() is going to take some time...\n"
     ]
    },
    {
     "name": "stderr",
     "output_type": "stream",
     "text": [
      "/usr/lib/python3/dist-packages/ipykernel_launcher.py:57: SettingWithCopyWarning: \n",
      "A value is trying to be set on a copy of a slice from a DataFrame\n",
      "\n",
      "See the caveats in the documentation: http://pandas.pydata.org/pandas-docs/stable/indexing.html#indexing-view-versus-copy\n",
      "/usr/lib/python3/dist-packages/ipykernel_launcher.py:60: SettingWithCopyWarning: \n",
      "A value is trying to be set on a copy of a slice from a DataFrame\n",
      "\n",
      "See the caveats in the documentation: http://pandas.pydata.org/pandas-docs/stable/indexing.html#indexing-view-versus-copy\n",
      "/usr/lib/python3/dist-packages/ipykernel_launcher.py:61: SettingWithCopyWarning: \n",
      "A value is trying to be set on a copy of a slice from a DataFrame\n",
      "\n",
      "See the caveats in the documentation: http://pandas.pydata.org/pandas-docs/stable/indexing.html#indexing-view-versus-copy\n",
      "/usr/lib/python3/dist-packages/ipykernel_launcher.py:62: SettingWithCopyWarning: \n",
      "A value is trying to be set on a copy of a slice from a DataFrame\n",
      "\n",
      "See the caveats in the documentation: http://pandas.pydata.org/pandas-docs/stable/indexing.html#indexing-view-versus-copy\n",
      "/usr/lib/python3/dist-packages/ipykernel_launcher.py:63: SettingWithCopyWarning: \n",
      "A value is trying to be set on a copy of a slice from a DataFrame\n",
      "\n",
      "See the caveats in the documentation: http://pandas.pydata.org/pandas-docs/stable/indexing.html#indexing-view-versus-copy\n"
     ]
    },
    {
     "name": "stdout",
     "output_type": "stream",
     "text": [
      "clean_text_serie() is finished!\n",
      "It took a total of 0.024330619970957437 minutes to process 'text' column\n"
     ]
    }
   ],
   "source": [
    "df = clean_text_serie(df, \"text\")"
   ]
  },
  {
   "cell_type": "markdown",
   "metadata": {},
   "source": [
    "### Saving the data to \"*all_processed.csv*\""
   ]
  },
  {
   "cell_type": "code",
   "execution_count": 19,
   "metadata": {},
   "outputs": [],
   "source": [
    "df.to_csv(r\"all_processed2.csv\")"
   ]
  },
  {
   "cell_type": "code",
   "execution_count": 20,
   "metadata": {},
   "outputs": [
    {
     "data": {
      "text/html": [
       "<div>\n",
       "<style scoped>\n",
       "    .dataframe tbody tr th:only-of-type {\n",
       "        vertical-align: middle;\n",
       "    }\n",
       "\n",
       "    .dataframe tbody tr th {\n",
       "        vertical-align: top;\n",
       "    }\n",
       "\n",
       "    .dataframe thead th {\n",
       "        text-align: right;\n",
       "    }\n",
       "</style>\n",
       "<table border=\"1\" class=\"dataframe\">\n",
       "  <thead>\n",
       "    <tr style=\"text-align: right;\">\n",
       "      <th></th>\n",
       "      <th>Unnamed: 0</th>\n",
       "      <th>company</th>\n",
       "      <th>location</th>\n",
       "      <th>dates</th>\n",
       "      <th>job-title</th>\n",
       "      <th>summary</th>\n",
       "      <th>pros</th>\n",
       "      <th>cons</th>\n",
       "      <th>advice-to-mgmt</th>\n",
       "      <th>overall-ratings</th>\n",
       "      <th>...</th>\n",
       "      <th>cons_char_length</th>\n",
       "      <th>cons_word_count</th>\n",
       "      <th>cons_stopword_count</th>\n",
       "      <th>cons_stopword_freq</th>\n",
       "      <th>text</th>\n",
       "      <th>text_processed</th>\n",
       "      <th>text_char_length</th>\n",
       "      <th>text_word_count</th>\n",
       "      <th>text_stopword_count</th>\n",
       "      <th>text_stopword_freq</th>\n",
       "    </tr>\n",
       "  </thead>\n",
       "  <tbody>\n",
       "    <tr>\n",
       "      <th>0</th>\n",
       "      <td>1</td>\n",
       "      <td>google</td>\n",
       "      <td>none</td>\n",
       "      <td>Dec 11, 2018</td>\n",
       "      <td>Current Employee - Anonymous Employee</td>\n",
       "      <td>Best Company to work for</td>\n",
       "      <td>People are smart and friendly</td>\n",
       "      <td>Bureaucracy is slowing things down</td>\n",
       "      <td>none</td>\n",
       "      <td>5.0</td>\n",
       "      <td>...</td>\n",
       "      <td>34.0</td>\n",
       "      <td>5.0</td>\n",
       "      <td>2.0</td>\n",
       "      <td>0.400000</td>\n",
       "      <td>Best Company to work for People are smart and ...</td>\n",
       "      <td>best compani work peopl smart friendli bureauc...</td>\n",
       "      <td>89.0</td>\n",
       "      <td>15.0</td>\n",
       "      <td>6.0</td>\n",
       "      <td>0.400000</td>\n",
       "    </tr>\n",
       "    <tr>\n",
       "      <th>1</th>\n",
       "      <td>2</td>\n",
       "      <td>google</td>\n",
       "      <td>Mountain View, CA</td>\n",
       "      <td>Jun 21, 2013</td>\n",
       "      <td>Former Employee - Program Manager</td>\n",
       "      <td>Moving at the speed of light, burn out is inev...</td>\n",
       "      <td>1) Food, food, food. 15+ cafes on main campus ...</td>\n",
       "      <td>1) Work/life balance. What balance? All those ...</td>\n",
       "      <td>1) Don't dismiss emotional intelligence and ad...</td>\n",
       "      <td>4.0</td>\n",
       "      <td>...</td>\n",
       "      <td>2403.0</td>\n",
       "      <td>407.0</td>\n",
       "      <td>210.0</td>\n",
       "      <td>0.515971</td>\n",
       "      <td>Moving at the speed of light, burn out is inev...</td>\n",
       "      <td>move speed light burn inevit food food food ca...</td>\n",
       "      <td>3505.0</td>\n",
       "      <td>575.0</td>\n",
       "      <td>272.0</td>\n",
       "      <td>0.473043</td>\n",
       "    </tr>\n",
       "    <tr>\n",
       "      <th>2</th>\n",
       "      <td>3</td>\n",
       "      <td>google</td>\n",
       "      <td>New York, NY</td>\n",
       "      <td>May 10, 2014</td>\n",
       "      <td>Current Employee - Software Engineer III</td>\n",
       "      <td>Great balance between big-company security and...</td>\n",
       "      <td>* If you're a software engineer, you're among ...</td>\n",
       "      <td>* It *is* becoming larger, and with it comes g...</td>\n",
       "      <td>Keep the focus on the user. Everything else wi...</td>\n",
       "      <td>5.0</td>\n",
       "      <td>...</td>\n",
       "      <td>1064.0</td>\n",
       "      <td>179.0</td>\n",
       "      <td>79.0</td>\n",
       "      <td>0.441341</td>\n",
       "      <td>Great balance between big-company security and...</td>\n",
       "      <td>great balanc big compani secur fun fast move p...</td>\n",
       "      <td>4772.0</td>\n",
       "      <td>838.0</td>\n",
       "      <td>408.0</td>\n",
       "      <td>0.486874</td>\n",
       "    </tr>\n",
       "    <tr>\n",
       "      <th>3</th>\n",
       "      <td>4</td>\n",
       "      <td>google</td>\n",
       "      <td>Mountain View, CA</td>\n",
       "      <td>Feb 8, 2015</td>\n",
       "      <td>Current Employee - Anonymous Employee</td>\n",
       "      <td>The best place I've worked and also the most d...</td>\n",
       "      <td>You can't find a more well-regarded company th...</td>\n",
       "      <td>I live in SF so the commute can take between 1...</td>\n",
       "      <td>Keep on NOT micromanaging - that is a huge ben...</td>\n",
       "      <td>5.0</td>\n",
       "      <td>...</td>\n",
       "      <td>2614.0</td>\n",
       "      <td>512.0</td>\n",
       "      <td>286.0</td>\n",
       "      <td>0.558594</td>\n",
       "      <td>The best place I've worked and also the most d...</td>\n",
       "      <td>best place work also demand find well regard c...</td>\n",
       "      <td>4243.0</td>\n",
       "      <td>821.0</td>\n",
       "      <td>461.0</td>\n",
       "      <td>0.561510</td>\n",
       "    </tr>\n",
       "    <tr>\n",
       "      <th>4</th>\n",
       "      <td>5</td>\n",
       "      <td>google</td>\n",
       "      <td>Los Angeles, CA</td>\n",
       "      <td>Jul 19, 2018</td>\n",
       "      <td>Former Employee - Software Engineer</td>\n",
       "      <td>Unique, one of a kind dream job</td>\n",
       "      <td>Google is a world of its own. At every other c...</td>\n",
       "      <td>If you don't work in MTV (HQ), you will be giv...</td>\n",
       "      <td>Promote managers into management for their man...</td>\n",
       "      <td>5.0</td>\n",
       "      <td>...</td>\n",
       "      <td>4694.0</td>\n",
       "      <td>830.0</td>\n",
       "      <td>417.0</td>\n",
       "      <td>0.502410</td>\n",
       "      <td>Unique, one of a kind dream job Google is a wo...</td>\n",
       "      <td>uniqu one kind dream job world everi compani l...</td>\n",
       "      <td>12902.0</td>\n",
       "      <td>2276.0</td>\n",
       "      <td>1146.0</td>\n",
       "      <td>0.503515</td>\n",
       "    </tr>\n",
       "  </tbody>\n",
       "</table>\n",
       "<p>5 rows × 38 columns</p>\n",
       "</div>"
      ],
      "text/plain": [
       "   Unnamed: 0 company           location          dates  \\\n",
       "0           1  google               none   Dec 11, 2018   \n",
       "1           2  google  Mountain View, CA   Jun 21, 2013   \n",
       "2           3  google       New York, NY   May 10, 2014   \n",
       "3           4  google  Mountain View, CA    Feb 8, 2015   \n",
       "4           5  google    Los Angeles, CA   Jul 19, 2018   \n",
       "\n",
       "                                  job-title  \\\n",
       "0     Current Employee - Anonymous Employee   \n",
       "1         Former Employee - Program Manager   \n",
       "2  Current Employee - Software Engineer III   \n",
       "3     Current Employee - Anonymous Employee   \n",
       "4       Former Employee - Software Engineer   \n",
       "\n",
       "                                             summary  \\\n",
       "0                           Best Company to work for   \n",
       "1  Moving at the speed of light, burn out is inev...   \n",
       "2  Great balance between big-company security and...   \n",
       "3  The best place I've worked and also the most d...   \n",
       "4                    Unique, one of a kind dream job   \n",
       "\n",
       "                                                pros  \\\n",
       "0                      People are smart and friendly   \n",
       "1  1) Food, food, food. 15+ cafes on main campus ...   \n",
       "2  * If you're a software engineer, you're among ...   \n",
       "3  You can't find a more well-regarded company th...   \n",
       "4  Google is a world of its own. At every other c...   \n",
       "\n",
       "                                                cons  \\\n",
       "0                 Bureaucracy is slowing things down   \n",
       "1  1) Work/life balance. What balance? All those ...   \n",
       "2  * It *is* becoming larger, and with it comes g...   \n",
       "3  I live in SF so the commute can take between 1...   \n",
       "4  If you don't work in MTV (HQ), you will be giv...   \n",
       "\n",
       "                                      advice-to-mgmt  overall-ratings  ...  \\\n",
       "0                                               none              5.0  ...   \n",
       "1  1) Don't dismiss emotional intelligence and ad...              4.0  ...   \n",
       "2  Keep the focus on the user. Everything else wi...              5.0  ...   \n",
       "3  Keep on NOT micromanaging - that is a huge ben...              5.0  ...   \n",
       "4  Promote managers into management for their man...              5.0  ...   \n",
       "\n",
       "  cons_char_length cons_word_count cons_stopword_count cons_stopword_freq  \\\n",
       "0             34.0             5.0                 2.0           0.400000   \n",
       "1           2403.0           407.0               210.0           0.515971   \n",
       "2           1064.0           179.0                79.0           0.441341   \n",
       "3           2614.0           512.0               286.0           0.558594   \n",
       "4           4694.0           830.0               417.0           0.502410   \n",
       "\n",
       "                                                text  \\\n",
       "0  Best Company to work for People are smart and ...   \n",
       "1  Moving at the speed of light, burn out is inev...   \n",
       "2  Great balance between big-company security and...   \n",
       "3  The best place I've worked and also the most d...   \n",
       "4  Unique, one of a kind dream job Google is a wo...   \n",
       "\n",
       "                                      text_processed text_char_length  \\\n",
       "0  best compani work peopl smart friendli bureauc...             89.0   \n",
       "1  move speed light burn inevit food food food ca...           3505.0   \n",
       "2  great balanc big compani secur fun fast move p...           4772.0   \n",
       "3  best place work also demand find well regard c...           4243.0   \n",
       "4  uniqu one kind dream job world everi compani l...          12902.0   \n",
       "\n",
       "  text_word_count  text_stopword_count  text_stopword_freq  \n",
       "0            15.0                  6.0            0.400000  \n",
       "1           575.0                272.0            0.473043  \n",
       "2           838.0                408.0            0.486874  \n",
       "3           821.0                461.0            0.561510  \n",
       "4          2276.0               1146.0            0.503515  \n",
       "\n",
       "[5 rows x 38 columns]"
      ]
     },
     "execution_count": 20,
     "metadata": {},
     "output_type": "execute_result"
    }
   ],
   "source": [
    "df.head()"
   ]
  }
 ],
 "metadata": {
  "kernelspec": {
   "display_name": "Python 3",
   "language": "python",
   "name": "python3"
  },
  "language_info": {
   "codemirror_mode": {
    "name": "ipython",
    "version": 3
   },
   "file_extension": ".py",
   "mimetype": "text/x-python",
   "name": "python",
   "nbconvert_exporter": "python",
   "pygments_lexer": "ipython3",
   "version": "3.6.7"
  }
 },
 "nbformat": 4,
 "nbformat_minor": 2
}
