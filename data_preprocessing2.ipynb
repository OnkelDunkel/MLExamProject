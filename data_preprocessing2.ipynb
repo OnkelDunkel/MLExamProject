{
 "cells": [
  {
   "cell_type": "markdown",
   "metadata": {},
   "source": [
    "# Data preprocessing\n",
    "\n",
    "#### This notebook contains some of the code for the data preprocessing for cleaning and preparing the text values.\n",
    "#### The output of the notebook results in a file named *all_processed.csv* containing the processed data.\n",
    "#### Be aware that running the entire notebook will take some time depending on the performance of your computer. For our computer it took around 1 1/2 hour."
   ]
  },
  {
   "cell_type": "code",
   "execution_count": 1,
   "metadata": {},
   "outputs": [
    {
     "name": "stdout",
     "output_type": "stream",
     "text": [
      "Populating the interactive namespace from numpy and matplotlib\n"
     ]
    }
   ],
   "source": [
    "%pylab inline\n",
    "import pandas as pd"
   ]
  },
  {
   "cell_type": "code",
   "execution_count": 2,
   "metadata": {},
   "outputs": [],
   "source": [
    "df = pd.read_csv(\"employee_reviews.csv\")"
   ]
  },
  {
   "cell_type": "code",
   "execution_count": 3,
   "metadata": {
    "scrolled": false
   },
   "outputs": [
    {
     "data": {
      "text/html": [
       "<div>\n",
       "<style scoped>\n",
       "    .dataframe tbody tr th:only-of-type {\n",
       "        vertical-align: middle;\n",
       "    }\n",
       "\n",
       "    .dataframe tbody tr th {\n",
       "        vertical-align: top;\n",
       "    }\n",
       "\n",
       "    .dataframe thead th {\n",
       "        text-align: right;\n",
       "    }\n",
       "</style>\n",
       "<table border=\"1\" class=\"dataframe\">\n",
       "  <thead>\n",
       "    <tr style=\"text-align: right;\">\n",
       "      <th></th>\n",
       "      <th>Unnamed: 0</th>\n",
       "      <th>company</th>\n",
       "      <th>location</th>\n",
       "      <th>dates</th>\n",
       "      <th>job-title</th>\n",
       "      <th>summary</th>\n",
       "      <th>pros</th>\n",
       "      <th>cons</th>\n",
       "      <th>advice-to-mgmt</th>\n",
       "      <th>overall-ratings</th>\n",
       "      <th>work-balance-stars</th>\n",
       "      <th>culture-values-stars</th>\n",
       "      <th>carrer-opportunities-stars</th>\n",
       "      <th>comp-benefit-stars</th>\n",
       "      <th>senior-mangemnet-stars</th>\n",
       "      <th>helpful-count</th>\n",
       "      <th>link</th>\n",
       "    </tr>\n",
       "  </thead>\n",
       "  <tbody>\n",
       "    <tr>\n",
       "      <th>0</th>\n",
       "      <td>1</td>\n",
       "      <td>google</td>\n",
       "      <td>none</td>\n",
       "      <td>Dec 11, 2018</td>\n",
       "      <td>Current Employee - Anonymous Employee</td>\n",
       "      <td>Best Company to work for</td>\n",
       "      <td>People are smart and friendly</td>\n",
       "      <td>Bureaucracy is slowing things down</td>\n",
       "      <td>none</td>\n",
       "      <td>5.0</td>\n",
       "      <td>4.0</td>\n",
       "      <td>5.0</td>\n",
       "      <td>5.0</td>\n",
       "      <td>4.0</td>\n",
       "      <td>5.0</td>\n",
       "      <td>0</td>\n",
       "      <td>https://www.glassdoor.com/Reviews/Google-Revie...</td>\n",
       "    </tr>\n",
       "  </tbody>\n",
       "</table>\n",
       "</div>"
      ],
      "text/plain": [
       "   Unnamed: 0 company location          dates  \\\n",
       "0           1  google     none   Dec 11, 2018   \n",
       "\n",
       "                               job-title                   summary  \\\n",
       "0  Current Employee - Anonymous Employee  Best Company to work for   \n",
       "\n",
       "                            pros                                cons  \\\n",
       "0  People are smart and friendly  Bureaucracy is slowing things down   \n",
       "\n",
       "  advice-to-mgmt  overall-ratings work-balance-stars culture-values-stars  \\\n",
       "0           none              5.0                4.0                  5.0   \n",
       "\n",
       "  carrer-opportunities-stars comp-benefit-stars senior-mangemnet-stars  \\\n",
       "0                        5.0                4.0                    5.0   \n",
       "\n",
       "   helpful-count                                               link  \n",
       "0              0  https://www.glassdoor.com/Reviews/Google-Revie...  "
      ]
     },
     "execution_count": 3,
     "metadata": {},
     "output_type": "execute_result"
    }
   ],
   "source": [
    "df.head(1)"
   ]
  },
  {
   "cell_type": "markdown",
   "metadata": {},
   "source": [
    "### Some rows contained empty values and some contained string values with the text \"*none*\". We made a method for removing these values for a given column"
   ]
  },
  {
   "cell_type": "code",
   "execution_count": 4,
   "metadata": {},
   "outputs": [
    {
     "data": {
      "text/plain": [
       "67529"
      ]
     },
     "execution_count": 4,
     "metadata": {},
     "output_type": "execute_result"
    }
   ],
   "source": [
    "df.count()[0]"
   ]
  },
  {
   "cell_type": "code",
   "execution_count": 5,
   "metadata": {},
   "outputs": [],
   "source": [
    "def clean_by_clmn(df, clmn_name):\n",
    "    df = df[df[clmn_name] != \"none\"]\n",
    "    df = df[df[clmn_name] != \"\"]\n",
    "    df = df[df[clmn_name].notna()]\n",
    "    return df"
   ]
  },
  {
   "cell_type": "code",
   "execution_count": 6,
   "metadata": {},
   "outputs": [],
   "source": [
    "df = clean_by_clmn(df, \"summary\")\n",
    "df = df = clean_by_clmn(df, \"pros\")\n",
    "df = clean_by_clmn(df, \"cons\")"
   ]
  },
  {
   "cell_type": "markdown",
   "metadata": {},
   "source": [
    "After applying the function for the *summary*, *\"pros\"* and \"*cons*\" columns only 10 rows had been removed."
   ]
  },
  {
   "cell_type": "code",
   "execution_count": 7,
   "metadata": {},
   "outputs": [
    {
     "data": {
      "text/plain": [
       "67399"
      ]
     },
     "execution_count": 7,
     "metadata": {},
     "output_type": "execute_result"
    }
   ],
   "source": [
    "df.count()[0]"
   ]
  },
  {
   "cell_type": "markdown",
   "metadata": {},
   "source": [
    "### We used the Natural Language Toolkit for removing stopwords and stemming"
   ]
  },
  {
   "cell_type": "code",
   "execution_count": 8,
   "metadata": {},
   "outputs": [
    {
     "name": "stderr",
     "output_type": "stream",
     "text": [
      "[nltk_data] Downloading package stopwords to /home/ras/nltk_data...\n",
      "[nltk_data]   Package stopwords is already up-to-date!\n"
     ]
    }
   ],
   "source": [
    "import re #regular expression\n",
    "import nltk\n",
    "nltk.download(\"stopwords\") # THE IN YOU FOR\n",
    "from nltk.corpus import stopwords\n",
    "from nltk.stem.porter import PorterStemmer\n",
    "\n",
    "stopwords = set(stopwords.words(\"english\"))\n",
    "ps = PorterStemmer()"
   ]
  },
  {
   "cell_type": "markdown",
   "metadata": {},
   "source": [
    "### We also wants wanted to remove company names from the review so that the text will not be biased by mentioning any of the companies that we trained on"
   ]
  },
  {
   "cell_type": "code",
   "execution_count": 9,
   "metadata": {},
   "outputs": [
    {
     "data": {
      "text/plain": [
       "['google', 'amazon', 'facebook', 'netflix', 'apple', 'microsoft']"
      ]
     },
     "execution_count": 9,
     "metadata": {},
     "output_type": "execute_result"
    }
   ],
   "source": [
    "companies = [c.lower() for c in df[\"company\"].unique()]\n",
    "companies"
   ]
  },
  {
   "cell_type": "markdown",
   "metadata": {},
   "source": [
    "### The below function the reason the note book takes a long time to run on all the data\n",
    "In the *clean_text_serie()* function the text data goes through following steps:\n",
    "\n",
    "1. Making all characters lowercase.\n",
    "2. Removing all non-a-z characters.\n",
    "3. Removal of stop words.\n",
    "\n",
    "Due to the long processing time for the function a time estimater was also added."
   ]
  },
  {
   "cell_type": "code",
   "execution_count": 10,
   "metadata": {},
   "outputs": [],
   "source": [
    "def clean_text_serie(df, serie_name):\n",
    "    print(\"clean_text_serie() is going to take some time...\")\n",
    "    \n",
    "    processed_clmn_key = serie_name + \"_processed\"\n",
    "    char_length_key = serie_name + \"_char_length\"\n",
    "    word_count_key = serie_name + \"_word_count\"\n",
    "    stopword_count_key = serie_name + \"_stopword_count\"\n",
    "    stopword_freq_key = serie_name + \"_stopword_freq\"\n",
    "    \n",
    "    df[processed_clmn_key] = \"\"\n",
    "    df[char_length_key] = np.nan\n",
    "    df[word_count_key] = np.nan\n",
    "    df[stopword_count_key] = np.nan\n",
    "    df[stopword_freq_key] = np.nan\n",
    "    \n",
    "    \n",
    "    j = 1000\n",
    "    start_time = time.time()\n",
    "    df_count = df.count()[0]\n",
    "    for i, row in df.iterrows():\n",
    "        \n",
    "        if (i >= j):\n",
    "            up_time = (time.time() - start_time)/60\n",
    "            \n",
    "            remaining = int((up_time * (df_count/i)) - up_time)\n",
    "            \n",
    "            print(\"{0}/{1} - {2} minutes since start - estimate: {3} minutes left\"\n",
    "                  .format(i,df_count,int(up_time),remaining))\n",
    "            j+=1000\n",
    "            \n",
    "        cleaned = df[serie_name][i]\n",
    "        # \"Bob is, happy for Facebook!\"\"\"\n",
    "        \n",
    "        char_length = len(cleaned)\n",
    "        \n",
    "        cleaned = cleaned.lower()\n",
    "        # \"bob is, happy for facebook!\"\n",
    "        cleaned = re.sub(\"[^a-z]\", \" \", cleaned)\n",
    "        # \"bob is  happy for facebook \"\n",
    "        cleaned = cleaned.split()\n",
    "        # [\"bob\", \"is\", \"happy\", \"for\", \"facebook\"]\n",
    "        \n",
    "        word_count = len(cleaned)\n",
    "        \n",
    "        cleaned = [word for word in cleaned if not word in stopwords]\n",
    "        # [\"bob\", \"happy\", \"facebook\"]\n",
    "        \n",
    "        stopword_count = word_count - len(cleaned)\n",
    "        stopword_freq = 0\n",
    "        if stopword_count > 0:\n",
    "            stopword_freq = stopword_count / word_count\n",
    "            \n",
    "        \n",
    "        cleaned = [ps.stem(word) for word in cleaned if not word in companies]\n",
    "        # [\"bob\", \"happi\"]\n",
    "        \n",
    "        df[processed_clmn_key][i] = \" \".join(cleaned)\n",
    "        # \"bob happi\"\n",
    "        \n",
    "        df[char_length_key][i] = char_length # character length of original text\n",
    "        df[word_count_key][i] = word_count # word count of original text\n",
    "        df[stopword_count_key][i] = stopword_count # number of stopwords in original text\n",
    "        df[stopword_freq_key][i] = stopword_freq # frequency of stopwords in original text\n",
    "    \n",
    "    print(\"clean_text_serie() is finished!\")\n",
    "    print(\"It took a total of {0} minutes to process '{1}' column\"\n",
    "          .format((time.time() - start_time)/60, serie_name))\n",
    "    return df"
   ]
  },
  {
   "cell_type": "code",
   "execution_count": 11,
   "metadata": {},
   "outputs": [
    {
     "data": {
      "text/plain": [
       "67399"
      ]
     },
     "execution_count": 11,
     "metadata": {},
     "output_type": "execute_result"
    }
   ],
   "source": [
    "serie = df[\"summary\"]\n",
    "serie.count()"
   ]
  },
  {
   "cell_type": "code",
   "execution_count": 12,
   "metadata": {},
   "outputs": [
    {
     "data": {
      "text/plain": [
       "0                             Best Company to work for\n",
       "1    Moving at the speed of light, burn out is inev...\n",
       "2    Great balance between big-company security and...\n",
       "3    The best place I've worked and also the most d...\n",
       "4                      Unique, one of a kind dream job\n",
       "Name: summary, dtype: object"
      ]
     },
     "execution_count": 12,
     "metadata": {},
     "output_type": "execute_result"
    }
   ],
   "source": [
    "df.head()[\"summary\"]"
   ]
  },
  {
   "cell_type": "code",
   "execution_count": 13,
   "metadata": {},
   "outputs": [
    {
     "name": "stdout",
     "output_type": "stream",
     "text": [
      "clean_text_serie() is going to take some time...\n"
     ]
    },
    {
     "name": "stderr",
     "output_type": "stream",
     "text": [
      "/usr/lib/python3/dist-packages/ipykernel_launcher.py:57: SettingWithCopyWarning: \n",
      "A value is trying to be set on a copy of a slice from a DataFrame\n",
      "\n",
      "See the caveats in the documentation: http://pandas.pydata.org/pandas-docs/stable/indexing.html#indexing-view-versus-copy\n",
      "/usr/lib/python3/dist-packages/ipykernel_launcher.py:60: SettingWithCopyWarning: \n",
      "A value is trying to be set on a copy of a slice from a DataFrame\n",
      "\n",
      "See the caveats in the documentation: http://pandas.pydata.org/pandas-docs/stable/indexing.html#indexing-view-versus-copy\n",
      "/usr/lib/python3/dist-packages/ipykernel_launcher.py:61: SettingWithCopyWarning: \n",
      "A value is trying to be set on a copy of a slice from a DataFrame\n",
      "\n",
      "See the caveats in the documentation: http://pandas.pydata.org/pandas-docs/stable/indexing.html#indexing-view-versus-copy\n",
      "/usr/lib/python3/dist-packages/ipykernel_launcher.py:62: SettingWithCopyWarning: \n",
      "A value is trying to be set on a copy of a slice from a DataFrame\n",
      "\n",
      "See the caveats in the documentation: http://pandas.pydata.org/pandas-docs/stable/indexing.html#indexing-view-versus-copy\n",
      "/usr/lib/python3/dist-packages/ipykernel_launcher.py:63: SettingWithCopyWarning: \n",
      "A value is trying to be set on a copy of a slice from a DataFrame\n",
      "\n",
      "See the caveats in the documentation: http://pandas.pydata.org/pandas-docs/stable/indexing.html#indexing-view-versus-copy\n"
     ]
    },
    {
     "name": "stdout",
     "output_type": "stream",
     "text": [
      "1000/67399 - 1 minutes since start - estimate: 131 minutes left\n",
      "2000/67399 - 3 minutes since start - estimate: 129 minutes left\n",
      "3000/67399 - 5 minutes since start - estimate: 127 minutes left\n",
      "4000/67399 - 7 minutes since start - estimate: 125 minutes left\n",
      "5000/67399 - 9 minutes since start - estimate: 123 minutes left\n",
      "6000/67399 - 11 minutes since start - estimate: 121 minutes left\n",
      "7000/67399 - 13 minutes since start - estimate: 120 minutes left\n",
      "8000/67399 - 15 minutes since start - estimate: 118 minutes left\n",
      "9000/67399 - 17 minutes since start - estimate: 116 minutes left\n",
      "10000/67399 - 19 minutes since start - estimate: 114 minutes left\n",
      "11000/67399 - 21 minutes since start - estimate: 111 minutes left\n",
      "12000/67399 - 23 minutes since start - estimate: 109 minutes left\n",
      "13000/67399 - 25 minutes since start - estimate: 107 minutes left\n",
      "14000/67399 - 27 minutes since start - estimate: 105 minutes left\n",
      "15000/67399 - 29 minutes since start - estimate: 103 minutes left\n",
      "16000/67399 - 31 minutes since start - estimate: 101 minutes left\n",
      "17000/67399 - 33 minutes since start - estimate: 99 minutes left\n",
      "18000/67399 - 35 minutes since start - estimate: 97 minutes left\n",
      "19000/67399 - 37 minutes since start - estimate: 95 minutes left\n",
      "20000/67399 - 39 minutes since start - estimate: 93 minutes left\n",
      "21000/67399 - 41 minutes since start - estimate: 91 minutes left\n",
      "22000/67399 - 43 minutes since start - estimate: 89 minutes left\n",
      "23000/67399 - 45 minutes since start - estimate: 87 minutes left\n",
      "24000/67399 - 47 minutes since start - estimate: 85 minutes left\n",
      "25000/67399 - 49 minutes since start - estimate: 84 minutes left\n",
      "26000/67399 - 51 minutes since start - estimate: 82 minutes left\n",
      "27000/67399 - 53 minutes since start - estimate: 80 minutes left\n",
      "28000/67399 - 55 minutes since start - estimate: 78 minutes left\n",
      "29000/67399 - 57 minutes since start - estimate: 76 minutes left\n",
      "30000/67399 - 59 minutes since start - estimate: 74 minutes left\n",
      "31000/67399 - 61 minutes since start - estimate: 72 minutes left\n",
      "32000/67399 - 63 minutes since start - estimate: 70 minutes left\n",
      "33000/67399 - 65 minutes since start - estimate: 68 minutes left\n",
      "34000/67399 - 67 minutes since start - estimate: 66 minutes left\n",
      "35000/67399 - 69 minutes since start - estimate: 64 minutes left\n",
      "36000/67399 - 71 minutes since start - estimate: 62 minutes left\n",
      "37000/67399 - 73 minutes since start - estimate: 60 minutes left\n",
      "38000/67399 - 75 minutes since start - estimate: 58 minutes left\n",
      "39000/67399 - 77 minutes since start - estimate: 56 minutes left\n",
      "40000/67399 - 79 minutes since start - estimate: 54 minutes left\n",
      "41000/67399 - 81 minutes since start - estimate: 52 minutes left\n",
      "42000/67399 - 83 minutes since start - estimate: 50 minutes left\n",
      "43000/67399 - 85 minutes since start - estimate: 48 minutes left\n",
      "44000/67399 - 87 minutes since start - estimate: 46 minutes left\n",
      "45000/67399 - 89 minutes since start - estimate: 44 minutes left\n",
      "clean_text_serie() is finished!\n",
      "It took a total of 133.67580466270448 minutes to process 'summary' column\n"
     ]
    }
   ],
   "source": [
    "df = clean_text_serie(df, \"summary\")"
   ]
  },
  {
   "cell_type": "code",
   "execution_count": 14,
   "metadata": {},
   "outputs": [
    {
     "data": {
      "text/html": [
       "<div>\n",
       "<style scoped>\n",
       "    .dataframe tbody tr th:only-of-type {\n",
       "        vertical-align: middle;\n",
       "    }\n",
       "\n",
       "    .dataframe tbody tr th {\n",
       "        vertical-align: top;\n",
       "    }\n",
       "\n",
       "    .dataframe thead th {\n",
       "        text-align: right;\n",
       "    }\n",
       "</style>\n",
       "<table border=\"1\" class=\"dataframe\">\n",
       "  <thead>\n",
       "    <tr style=\"text-align: right;\">\n",
       "      <th></th>\n",
       "      <th>Unnamed: 0</th>\n",
       "      <th>company</th>\n",
       "      <th>location</th>\n",
       "      <th>dates</th>\n",
       "      <th>job-title</th>\n",
       "      <th>summary</th>\n",
       "      <th>pros</th>\n",
       "      <th>cons</th>\n",
       "      <th>advice-to-mgmt</th>\n",
       "      <th>overall-ratings</th>\n",
       "      <th>...</th>\n",
       "      <th>carrer-opportunities-stars</th>\n",
       "      <th>comp-benefit-stars</th>\n",
       "      <th>senior-mangemnet-stars</th>\n",
       "      <th>helpful-count</th>\n",
       "      <th>link</th>\n",
       "      <th>summary_processed</th>\n",
       "      <th>summary_char_length</th>\n",
       "      <th>summary_word_count</th>\n",
       "      <th>summary_stopword_count</th>\n",
       "      <th>summary_stopword_freq</th>\n",
       "    </tr>\n",
       "  </thead>\n",
       "  <tbody>\n",
       "    <tr>\n",
       "      <th>0</th>\n",
       "      <td>1</td>\n",
       "      <td>google</td>\n",
       "      <td>none</td>\n",
       "      <td>Dec 11, 2018</td>\n",
       "      <td>Current Employee - Anonymous Employee</td>\n",
       "      <td>Best Company to work for</td>\n",
       "      <td>People are smart and friendly</td>\n",
       "      <td>Bureaucracy is slowing things down</td>\n",
       "      <td>none</td>\n",
       "      <td>5.0</td>\n",
       "      <td>...</td>\n",
       "      <td>5.0</td>\n",
       "      <td>4.0</td>\n",
       "      <td>5.0</td>\n",
       "      <td>0</td>\n",
       "      <td>https://www.glassdoor.com/Reviews/Google-Revie...</td>\n",
       "      <td>best compani work</td>\n",
       "      <td>24.0</td>\n",
       "      <td>5.0</td>\n",
       "      <td>2.0</td>\n",
       "      <td>0.4</td>\n",
       "    </tr>\n",
       "  </tbody>\n",
       "</table>\n",
       "<p>1 rows × 22 columns</p>\n",
       "</div>"
      ],
      "text/plain": [
       "   Unnamed: 0 company location          dates  \\\n",
       "0           1  google     none   Dec 11, 2018   \n",
       "\n",
       "                               job-title                   summary  \\\n",
       "0  Current Employee - Anonymous Employee  Best Company to work for   \n",
       "\n",
       "                            pros                                cons  \\\n",
       "0  People are smart and friendly  Bureaucracy is slowing things down   \n",
       "\n",
       "  advice-to-mgmt  overall-ratings  ... carrer-opportunities-stars  \\\n",
       "0           none              5.0  ...                        5.0   \n",
       "\n",
       "  comp-benefit-stars senior-mangemnet-stars helpful-count  \\\n",
       "0                4.0                    5.0             0   \n",
       "\n",
       "                                                link  summary_processed  \\\n",
       "0  https://www.glassdoor.com/Reviews/Google-Revie...  best compani work   \n",
       "\n",
       "  summary_char_length summary_word_count  summary_stopword_count  \\\n",
       "0                24.0                5.0                     2.0   \n",
       "\n",
       "   summary_stopword_freq  \n",
       "0                    0.4  \n",
       "\n",
       "[1 rows x 22 columns]"
      ]
     },
     "execution_count": 14,
     "metadata": {},
     "output_type": "execute_result"
    }
   ],
   "source": [
    "df.head(1)"
   ]
  },
  {
   "cell_type": "code",
   "execution_count": 15,
   "metadata": {},
   "outputs": [
    {
     "name": "stdout",
     "output_type": "stream",
     "text": [
      "clean_text_serie() is going to take some time...\n"
     ]
    },
    {
     "name": "stderr",
     "output_type": "stream",
     "text": [
      "/usr/lib/python3/dist-packages/ipykernel_launcher.py:57: SettingWithCopyWarning: \n",
      "A value is trying to be set on a copy of a slice from a DataFrame\n",
      "\n",
      "See the caveats in the documentation: http://pandas.pydata.org/pandas-docs/stable/indexing.html#indexing-view-versus-copy\n",
      "/usr/lib/python3/dist-packages/ipykernel_launcher.py:60: SettingWithCopyWarning: \n",
      "A value is trying to be set on a copy of a slice from a DataFrame\n",
      "\n",
      "See the caveats in the documentation: http://pandas.pydata.org/pandas-docs/stable/indexing.html#indexing-view-versus-copy\n",
      "/usr/lib/python3/dist-packages/ipykernel_launcher.py:61: SettingWithCopyWarning: \n",
      "A value is trying to be set on a copy of a slice from a DataFrame\n",
      "\n",
      "See the caveats in the documentation: http://pandas.pydata.org/pandas-docs/stable/indexing.html#indexing-view-versus-copy\n",
      "/usr/lib/python3/dist-packages/ipykernel_launcher.py:62: SettingWithCopyWarning: \n",
      "A value is trying to be set on a copy of a slice from a DataFrame\n",
      "\n",
      "See the caveats in the documentation: http://pandas.pydata.org/pandas-docs/stable/indexing.html#indexing-view-versus-copy\n",
      "/usr/lib/python3/dist-packages/ipykernel_launcher.py:63: SettingWithCopyWarning: \n",
      "A value is trying to be set on a copy of a slice from a DataFrame\n",
      "\n",
      "See the caveats in the documentation: http://pandas.pydata.org/pandas-docs/stable/indexing.html#indexing-view-versus-copy\n"
     ]
    },
    {
     "name": "stdout",
     "output_type": "stream",
     "text": [
      "1000/67399 - 1 minutes since start - estimate: 130 minutes left\n",
      "2000/67399 - 3 minutes since start - estimate: 128 minutes left\n",
      "3000/67399 - 5 minutes since start - estimate: 126 minutes left\n",
      "4000/67399 - 7 minutes since start - estimate: 124 minutes left\n",
      "5000/67399 - 9 minutes since start - estimate: 123 minutes left\n",
      "6000/67399 - 11 minutes since start - estimate: 121 minutes left\n",
      "7000/67399 - 13 minutes since start - estimate: 119 minutes left\n",
      "8000/67399 - 15 minutes since start - estimate: 117 minutes left\n",
      "9000/67399 - 17 minutes since start - estimate: 115 minutes left\n",
      "10000/67399 - 19 minutes since start - estimate: 113 minutes left\n",
      "11000/67399 - 21 minutes since start - estimate: 111 minutes left\n",
      "12000/67399 - 23 minutes since start - estimate: 109 minutes left\n",
      "13000/67399 - 25 minutes since start - estimate: 107 minutes left\n",
      "14000/67399 - 27 minutes since start - estimate: 105 minutes left\n",
      "15000/67399 - 29 minutes since start - estimate: 103 minutes left\n",
      "16000/67399 - 31 minutes since start - estimate: 101 minutes left\n",
      "17000/67399 - 33 minutes since start - estimate: 99 minutes left\n",
      "18000/67399 - 35 minutes since start - estimate: 97 minutes left\n",
      "19000/67399 - 37 minutes since start - estimate: 95 minutes left\n",
      "20000/67399 - 39 minutes since start - estimate: 93 minutes left\n",
      "21000/67399 - 41 minutes since start - estimate: 91 minutes left\n",
      "22000/67399 - 43 minutes since start - estimate: 89 minutes left\n",
      "23000/67399 - 45 minutes since start - estimate: 87 minutes left\n",
      "24000/67399 - 47 minutes since start - estimate: 85 minutes left\n",
      "25000/67399 - 49 minutes since start - estimate: 83 minutes left\n",
      "26000/67399 - 51 minutes since start - estimate: 81 minutes left\n",
      "27000/67399 - 53 minutes since start - estimate: 79 minutes left\n",
      "28000/67399 - 55 minutes since start - estimate: 77 minutes left\n",
      "29000/67399 - 57 minutes since start - estimate: 75 minutes left\n",
      "30000/67399 - 59 minutes since start - estimate: 73 minutes left\n",
      "31000/67399 - 61 minutes since start - estimate: 71 minutes left\n",
      "32000/67399 - 63 minutes since start - estimate: 69 minutes left\n",
      "33000/67399 - 65 minutes since start - estimate: 68 minutes left\n",
      "34000/67399 - 67 minutes since start - estimate: 66 minutes left\n",
      "35000/67399 - 69 minutes since start - estimate: 64 minutes left\n",
      "36000/67399 - 71 minutes since start - estimate: 62 minutes left\n",
      "37000/67399 - 73 minutes since start - estimate: 60 minutes left\n",
      "38000/67399 - 75 minutes since start - estimate: 58 minutes left\n",
      "39000/67399 - 77 minutes since start - estimate: 56 minutes left\n",
      "40000/67399 - 79 minutes since start - estimate: 54 minutes left\n",
      "41000/67399 - 81 minutes since start - estimate: 52 minutes left\n",
      "42000/67399 - 83 minutes since start - estimate: 50 minutes left\n",
      "43000/67399 - 85 minutes since start - estimate: 48 minutes left\n",
      "44000/67399 - 87 minutes since start - estimate: 46 minutes left\n",
      "45000/67399 - 88 minutes since start - estimate: 44 minutes left\n",
      "clean_text_serie() is finished!\n",
      "It took a total of 133.62617691357931 minutes to process 'pros' column\n"
     ]
    }
   ],
   "source": [
    "df = clean_text_serie(df, \"pros\")"
   ]
  },
  {
   "cell_type": "code",
   "execution_count": 16,
   "metadata": {},
   "outputs": [
    {
     "name": "stdout",
     "output_type": "stream",
     "text": [
      "clean_text_serie() is going to take some time...\n"
     ]
    },
    {
     "name": "stderr",
     "output_type": "stream",
     "text": [
      "/usr/lib/python3/dist-packages/ipykernel_launcher.py:57: SettingWithCopyWarning: \n",
      "A value is trying to be set on a copy of a slice from a DataFrame\n",
      "\n",
      "See the caveats in the documentation: http://pandas.pydata.org/pandas-docs/stable/indexing.html#indexing-view-versus-copy\n",
      "/usr/lib/python3/dist-packages/ipykernel_launcher.py:60: SettingWithCopyWarning: \n",
      "A value is trying to be set on a copy of a slice from a DataFrame\n",
      "\n",
      "See the caveats in the documentation: http://pandas.pydata.org/pandas-docs/stable/indexing.html#indexing-view-versus-copy\n",
      "/usr/lib/python3/dist-packages/ipykernel_launcher.py:61: SettingWithCopyWarning: \n",
      "A value is trying to be set on a copy of a slice from a DataFrame\n",
      "\n",
      "See the caveats in the documentation: http://pandas.pydata.org/pandas-docs/stable/indexing.html#indexing-view-versus-copy\n",
      "/usr/lib/python3/dist-packages/ipykernel_launcher.py:62: SettingWithCopyWarning: \n",
      "A value is trying to be set on a copy of a slice from a DataFrame\n",
      "\n",
      "See the caveats in the documentation: http://pandas.pydata.org/pandas-docs/stable/indexing.html#indexing-view-versus-copy\n",
      "/usr/lib/python3/dist-packages/ipykernel_launcher.py:63: SettingWithCopyWarning: \n",
      "A value is trying to be set on a copy of a slice from a DataFrame\n",
      "\n",
      "See the caveats in the documentation: http://pandas.pydata.org/pandas-docs/stable/indexing.html#indexing-view-versus-copy\n"
     ]
    },
    {
     "name": "stdout",
     "output_type": "stream",
     "text": [
      "1000/67399 - 1 minutes since start - estimate: 130 minutes left\n",
      "2000/67399 - 3 minutes since start - estimate: 128 minutes left\n",
      "3000/67399 - 5 minutes since start - estimate: 127 minutes left\n",
      "4000/67399 - 7 minutes since start - estimate: 125 minutes left\n",
      "5000/67399 - 9 minutes since start - estimate: 123 minutes left\n",
      "6000/67399 - 11 minutes since start - estimate: 121 minutes left\n",
      "7000/67399 - 13 minutes since start - estimate: 119 minutes left\n",
      "8000/67399 - 15 minutes since start - estimate: 117 minutes left\n",
      "9000/67399 - 17 minutes since start - estimate: 115 minutes left\n",
      "10000/67399 - 19 minutes since start - estimate: 113 minutes left\n",
      "11000/67399 - 21 minutes since start - estimate: 111 minutes left\n",
      "12000/67399 - 23 minutes since start - estimate: 109 minutes left\n",
      "13000/67399 - 25 minutes since start - estimate: 107 minutes left\n",
      "14000/67399 - 27 minutes since start - estimate: 105 minutes left\n",
      "15000/67399 - 29 minutes since start - estimate: 103 minutes left\n",
      "16000/67399 - 31 minutes since start - estimate: 101 minutes left\n",
      "17000/67399 - 33 minutes since start - estimate: 99 minutes left\n",
      "18000/67399 - 35 minutes since start - estimate: 97 minutes left\n",
      "19000/67399 - 37 minutes since start - estimate: 95 minutes left\n",
      "20000/67399 - 39 minutes since start - estimate: 93 minutes left\n",
      "21000/67399 - 41 minutes since start - estimate: 91 minutes left\n",
      "22000/67399 - 43 minutes since start - estimate: 89 minutes left\n",
      "23000/67399 - 45 minutes since start - estimate: 87 minutes left\n",
      "24000/67399 - 47 minutes since start - estimate: 85 minutes left\n",
      "25000/67399 - 49 minutes since start - estimate: 83 minutes left\n",
      "26000/67399 - 51 minutes since start - estimate: 81 minutes left\n",
      "27000/67399 - 53 minutes since start - estimate: 79 minutes left\n",
      "28000/67399 - 55 minutes since start - estimate: 77 minutes left\n",
      "29000/67399 - 57 minutes since start - estimate: 76 minutes left\n",
      "30000/67399 - 59 minutes since start - estimate: 74 minutes left\n",
      "31000/67399 - 61 minutes since start - estimate: 72 minutes left\n",
      "32000/67399 - 63 minutes since start - estimate: 70 minutes left\n",
      "33000/67399 - 65 minutes since start - estimate: 68 minutes left\n",
      "34000/67399 - 67 minutes since start - estimate: 66 minutes left\n",
      "35000/67399 - 69 minutes since start - estimate: 64 minutes left\n",
      "36000/67399 - 71 minutes since start - estimate: 62 minutes left\n",
      "37000/67399 - 73 minutes since start - estimate: 60 minutes left\n",
      "38000/67399 - 75 minutes since start - estimate: 58 minutes left\n",
      "39000/67399 - 77 minutes since start - estimate: 56 minutes left\n",
      "40000/67399 - 79 minutes since start - estimate: 54 minutes left\n",
      "41000/67399 - 81 minutes since start - estimate: 52 minutes left\n",
      "42000/67399 - 83 minutes since start - estimate: 50 minutes left\n",
      "43000/67399 - 85 minutes since start - estimate: 48 minutes left\n",
      "44000/67399 - 87 minutes since start - estimate: 46 minutes left\n",
      "45000/67399 - 89 minutes since start - estimate: 44 minutes left\n",
      "clean_text_serie() is finished!\n",
      "It took a total of 133.93320814768472 minutes to process 'cons' column\n"
     ]
    }
   ],
   "source": [
    "df = clean_text_serie(df, \"cons\")"
   ]
  },
  {
   "cell_type": "code",
   "execution_count": 17,
   "metadata": {},
   "outputs": [],
   "source": [
    "df[\"text\"] = df[\"summary\"].str.cat(df[\"pros\"].str.cat(df[\"cons\"],sep=\" \"),sep=\" \")"
   ]
  },
  {
   "cell_type": "code",
   "execution_count": 18,
   "metadata": {},
   "outputs": [
    {
     "name": "stdout",
     "output_type": "stream",
     "text": [
      "clean_text_serie() is going to take some time...\n"
     ]
    },
    {
     "name": "stderr",
     "output_type": "stream",
     "text": [
      "/usr/lib/python3/dist-packages/ipykernel_launcher.py:57: SettingWithCopyWarning: \n",
      "A value is trying to be set on a copy of a slice from a DataFrame\n",
      "\n",
      "See the caveats in the documentation: http://pandas.pydata.org/pandas-docs/stable/indexing.html#indexing-view-versus-copy\n",
      "/usr/lib/python3/dist-packages/ipykernel_launcher.py:60: SettingWithCopyWarning: \n",
      "A value is trying to be set on a copy of a slice from a DataFrame\n",
      "\n",
      "See the caveats in the documentation: http://pandas.pydata.org/pandas-docs/stable/indexing.html#indexing-view-versus-copy\n",
      "/usr/lib/python3/dist-packages/ipykernel_launcher.py:61: SettingWithCopyWarning: \n",
      "A value is trying to be set on a copy of a slice from a DataFrame\n",
      "\n",
      "See the caveats in the documentation: http://pandas.pydata.org/pandas-docs/stable/indexing.html#indexing-view-versus-copy\n",
      "/usr/lib/python3/dist-packages/ipykernel_launcher.py:62: SettingWithCopyWarning: \n",
      "A value is trying to be set on a copy of a slice from a DataFrame\n",
      "\n",
      "See the caveats in the documentation: http://pandas.pydata.org/pandas-docs/stable/indexing.html#indexing-view-versus-copy\n",
      "/usr/lib/python3/dist-packages/ipykernel_launcher.py:63: SettingWithCopyWarning: \n",
      "A value is trying to be set on a copy of a slice from a DataFrame\n",
      "\n",
      "See the caveats in the documentation: http://pandas.pydata.org/pandas-docs/stable/indexing.html#indexing-view-versus-copy\n"
     ]
    },
    {
     "name": "stdout",
     "output_type": "stream",
     "text": [
      "1000/67399 - 1 minutes since start - estimate: 130 minutes left\n",
      "2000/67399 - 3 minutes since start - estimate: 128 minutes left\n",
      "3000/67399 - 5 minutes since start - estimate: 127 minutes left\n",
      "4000/67399 - 7 minutes since start - estimate: 125 minutes left\n",
      "5000/67399 - 9 minutes since start - estimate: 123 minutes left\n",
      "6000/67399 - 11 minutes since start - estimate: 121 minutes left\n",
      "7000/67399 - 13 minutes since start - estimate: 119 minutes left\n",
      "8000/67399 - 15 minutes since start - estimate: 117 minutes left\n",
      "9000/67399 - 17 minutes since start - estimate: 115 minutes left\n",
      "10000/67399 - 19 minutes since start - estimate: 113 minutes left\n",
      "11000/67399 - 21 minutes since start - estimate: 111 minutes left\n",
      "12000/67399 - 23 minutes since start - estimate: 109 minutes left\n",
      "13000/67399 - 25 minutes since start - estimate: 107 minutes left\n",
      "14000/67399 - 27 minutes since start - estimate: 105 minutes left\n",
      "15000/67399 - 29 minutes since start - estimate: 103 minutes left\n",
      "16000/67399 - 31 minutes since start - estimate: 101 minutes left\n",
      "17000/67399 - 33 minutes since start - estimate: 99 minutes left\n",
      "18000/67399 - 35 minutes since start - estimate: 97 minutes left\n",
      "19000/67399 - 37 minutes since start - estimate: 95 minutes left\n",
      "20000/67399 - 39 minutes since start - estimate: 93 minutes left\n",
      "21000/67399 - 41 minutes since start - estimate: 91 minutes left\n",
      "22000/67399 - 43 minutes since start - estimate: 89 minutes left\n",
      "23000/67399 - 45 minutes since start - estimate: 87 minutes left\n",
      "24000/67399 - 47 minutes since start - estimate: 85 minutes left\n",
      "25000/67399 - 49 minutes since start - estimate: 83 minutes left\n",
      "26000/67399 - 51 minutes since start - estimate: 81 minutes left\n",
      "27000/67399 - 53 minutes since start - estimate: 79 minutes left\n",
      "28000/67399 - 55 minutes since start - estimate: 78 minutes left\n",
      "29000/67399 - 57 minutes since start - estimate: 76 minutes left\n",
      "30000/67399 - 59 minutes since start - estimate: 74 minutes left\n",
      "31000/67399 - 61 minutes since start - estimate: 72 minutes left\n",
      "32000/67399 - 63 minutes since start - estimate: 70 minutes left\n",
      "33000/67399 - 65 minutes since start - estimate: 68 minutes left\n",
      "34000/67399 - 67 minutes since start - estimate: 66 minutes left\n",
      "35000/67399 - 69 minutes since start - estimate: 64 minutes left\n",
      "36000/67399 - 71 minutes since start - estimate: 62 minutes left\n",
      "37000/67399 - 73 minutes since start - estimate: 60 minutes left\n",
      "38000/67399 - 75 minutes since start - estimate: 58 minutes left\n",
      "39000/67399 - 77 minutes since start - estimate: 56 minutes left\n",
      "40000/67399 - 79 minutes since start - estimate: 54 minutes left\n",
      "41000/67399 - 81 minutes since start - estimate: 52 minutes left\n",
      "42000/67399 - 83 minutes since start - estimate: 50 minutes left\n",
      "43000/67399 - 85 minutes since start - estimate: 48 minutes left\n",
      "44000/67399 - 87 minutes since start - estimate: 46 minutes left\n",
      "45000/67399 - 89 minutes since start - estimate: 44 minutes left\n",
      "clean_text_serie() is finished!\n",
      "It took a total of 134.13138316075006 minutes to process 'text' column\n"
     ]
    }
   ],
   "source": [
    "df = clean_text_serie(df, \"text\")"
   ]
  },
  {
   "cell_type": "markdown",
   "metadata": {},
   "source": [
    "### Saving the data to \"*all_processed.csv*\""
   ]
  },
  {
   "cell_type": "code",
   "execution_count": 19,
   "metadata": {},
   "outputs": [],
   "source": [
    "df.to_csv(r\"all_processed2.csv\")"
   ]
  },
  {
   "cell_type": "code",
   "execution_count": 21,
   "metadata": {},
   "outputs": [
    {
     "data": {
      "text/html": [
       "<div>\n",
       "<style scoped>\n",
       "    .dataframe tbody tr th:only-of-type {\n",
       "        vertical-align: middle;\n",
       "    }\n",
       "\n",
       "    .dataframe tbody tr th {\n",
       "        vertical-align: top;\n",
       "    }\n",
       "\n",
       "    .dataframe thead th {\n",
       "        text-align: right;\n",
       "    }\n",
       "</style>\n",
       "<table border=\"1\" class=\"dataframe\">\n",
       "  <thead>\n",
       "    <tr style=\"text-align: right;\">\n",
       "      <th></th>\n",
       "      <th>Unnamed: 0</th>\n",
       "      <th>company</th>\n",
       "      <th>location</th>\n",
       "      <th>dates</th>\n",
       "      <th>job-title</th>\n",
       "      <th>summary</th>\n",
       "      <th>pros</th>\n",
       "      <th>cons</th>\n",
       "      <th>advice-to-mgmt</th>\n",
       "      <th>overall-ratings</th>\n",
       "      <th>...</th>\n",
       "      <th>cons_char_length</th>\n",
       "      <th>cons_word_count</th>\n",
       "      <th>cons_stopword_count</th>\n",
       "      <th>cons_stopword_freq</th>\n",
       "      <th>text</th>\n",
       "      <th>text_processed</th>\n",
       "      <th>text_char_length</th>\n",
       "      <th>text_word_count</th>\n",
       "      <th>text_stopword_count</th>\n",
       "      <th>text_stopword_freq</th>\n",
       "    </tr>\n",
       "  </thead>\n",
       "  <tbody>\n",
       "    <tr>\n",
       "      <th>67524</th>\n",
       "      <td>67525</td>\n",
       "      <td>microsoft</td>\n",
       "      <td>none</td>\n",
       "      <td>Dec 16, 2010</td>\n",
       "      <td>Former Employee - Anonymous Employee</td>\n",
       "      <td>Enriching experience for a beginner but bad fo...</td>\n",
       "      <td>-Access to a wide range of technologies, compl...</td>\n",
       "      <td>-Testers(SDET's ) do not get as many opportuni...</td>\n",
       "      <td>Make the company leaner and Meaner. (which wou...</td>\n",
       "      <td>3.0</td>\n",
       "      <td>...</td>\n",
       "      <td>160.0</td>\n",
       "      <td>26.0</td>\n",
       "      <td>9.0</td>\n",
       "      <td>0.346154</td>\n",
       "      <td>Enriching experience for a beginner but bad fo...</td>\n",
       "      <td>enrich experi beginn bad long term growth acce...</td>\n",
       "      <td>390.0</td>\n",
       "      <td>60.0</td>\n",
       "      <td>19.0</td>\n",
       "      <td>0.316667</td>\n",
       "    </tr>\n",
       "    <tr>\n",
       "      <th>67525</th>\n",
       "      <td>67526</td>\n",
       "      <td>microsoft</td>\n",
       "      <td>none</td>\n",
       "      <td>Dec 16, 2010</td>\n",
       "      <td>Current Employee - Senior Marketing Manager</td>\n",
       "      <td>A complex and interesting experience</td>\n",
       "      <td>- Once you're at Microsoft you can change role...</td>\n",
       "      <td>- Be prepared to be flexible - frequent change...</td>\n",
       "      <td>none</td>\n",
       "      <td>3.0</td>\n",
       "      <td>...</td>\n",
       "      <td>235.0</td>\n",
       "      <td>42.0</td>\n",
       "      <td>24.0</td>\n",
       "      <td>0.571429</td>\n",
       "      <td>A complex and interesting experience - Once yo...</td>\n",
       "      <td>complex interest experi chang role either choi...</td>\n",
       "      <td>598.0</td>\n",
       "      <td>103.0</td>\n",
       "      <td>59.0</td>\n",
       "      <td>0.572816</td>\n",
       "    </tr>\n",
       "    <tr>\n",
       "      <th>67526</th>\n",
       "      <td>67527</td>\n",
       "      <td>microsoft</td>\n",
       "      <td>none</td>\n",
       "      <td>Dec 15, 2010</td>\n",
       "      <td>Current Employee - Account Manager</td>\n",
       "      <td>Good Place to Work</td>\n",
       "      <td>Nice place to work. Good atmosphere with advan...</td>\n",
       "      <td>Management confusion at times with vision for ...</td>\n",
       "      <td>none</td>\n",
       "      <td>4.0</td>\n",
       "      <td>...</td>\n",
       "      <td>58.0</td>\n",
       "      <td>9.0</td>\n",
       "      <td>4.0</td>\n",
       "      <td>0.444444</td>\n",
       "      <td>Good Place to Work Nice place to work. Good at...</td>\n",
       "      <td>good place work nice place work good atmospher...</td>\n",
       "      <td>131.0</td>\n",
       "      <td>21.0</td>\n",
       "      <td>7.0</td>\n",
       "      <td>0.333333</td>\n",
       "    </tr>\n",
       "    <tr>\n",
       "      <th>67527</th>\n",
       "      <td>67528</td>\n",
       "      <td>microsoft</td>\n",
       "      <td>none</td>\n",
       "      <td>Dec 15, 2010</td>\n",
       "      <td>Current Employee - Senior Test Lead</td>\n",
       "      <td>It's a competitive work place, with overload w...</td>\n",
       "      <td>Smart people around you, can learn from them</td>\n",
       "      <td>Politics, weak moral, leaning loyalty</td>\n",
       "      <td>none</td>\n",
       "      <td>3.0</td>\n",
       "      <td>...</td>\n",
       "      <td>37.0</td>\n",
       "      <td>5.0</td>\n",
       "      <td>0.0</td>\n",
       "      <td>0.000000</td>\n",
       "      <td>It's a competitive work place, with overload w...</td>\n",
       "      <td>competit work place overload work item grow po...</td>\n",
       "      <td>173.0</td>\n",
       "      <td>28.0</td>\n",
       "      <td>9.0</td>\n",
       "      <td>0.321429</td>\n",
       "    </tr>\n",
       "    <tr>\n",
       "      <th>67528</th>\n",
       "      <td>67529</td>\n",
       "      <td>microsoft</td>\n",
       "      <td>none</td>\n",
       "      <td>Dec 14, 2010</td>\n",
       "      <td>Former Employee - Senior Director</td>\n",
       "      <td>Used to be great</td>\n",
       "      <td>Compensation, Health benefits and brand name r...</td>\n",
       "      <td>Leadership was better in the late 90's....its ...</td>\n",
       "      <td>Good people keep leaving...you have to ask you...</td>\n",
       "      <td>2.0</td>\n",
       "      <td>...</td>\n",
       "      <td>129.0</td>\n",
       "      <td>23.0</td>\n",
       "      <td>12.0</td>\n",
       "      <td>0.521739</td>\n",
       "      <td>Used to be great Compensation, Health benefits...</td>\n",
       "      <td>use great compens health benefit brand name re...</td>\n",
       "      <td>220.0</td>\n",
       "      <td>37.0</td>\n",
       "      <td>17.0</td>\n",
       "      <td>0.459459</td>\n",
       "    </tr>\n",
       "  </tbody>\n",
       "</table>\n",
       "<p>5 rows × 38 columns</p>\n",
       "</div>"
      ],
      "text/plain": [
       "       Unnamed: 0    company location          dates  \\\n",
       "67524       67525  microsoft     none   Dec 16, 2010   \n",
       "67525       67526  microsoft     none   Dec 16, 2010   \n",
       "67526       67527  microsoft     none   Dec 15, 2010   \n",
       "67527       67528  microsoft     none   Dec 15, 2010   \n",
       "67528       67529  microsoft     none   Dec 14, 2010   \n",
       "\n",
       "                                         job-title  \\\n",
       "67524         Former Employee - Anonymous Employee   \n",
       "67525  Current Employee - Senior Marketing Manager   \n",
       "67526           Current Employee - Account Manager   \n",
       "67527          Current Employee - Senior Test Lead   \n",
       "67528            Former Employee - Senior Director   \n",
       "\n",
       "                                                 summary  \\\n",
       "67524  Enriching experience for a beginner but bad fo...   \n",
       "67525               A complex and interesting experience   \n",
       "67526                                 Good Place to Work   \n",
       "67527  It's a competitive work place, with overload w...   \n",
       "67528                                   Used to be great   \n",
       "\n",
       "                                                    pros  \\\n",
       "67524  -Access to a wide range of technologies, compl...   \n",
       "67525  - Once you're at Microsoft you can change role...   \n",
       "67526  Nice place to work. Good atmosphere with advan...   \n",
       "67527       Smart people around you, can learn from them   \n",
       "67528  Compensation, Health benefits and brand name r...   \n",
       "\n",
       "                                                    cons  \\\n",
       "67524  -Testers(SDET's ) do not get as many opportuni...   \n",
       "67525  - Be prepared to be flexible - frequent change...   \n",
       "67526  Management confusion at times with vision for ...   \n",
       "67527              Politics, weak moral, leaning loyalty   \n",
       "67528  Leadership was better in the late 90's....its ...   \n",
       "\n",
       "                                          advice-to-mgmt  overall-ratings  \\\n",
       "67524  Make the company leaner and Meaner. (which wou...              3.0   \n",
       "67525                                               none              3.0   \n",
       "67526                                               none              4.0   \n",
       "67527                                               none              3.0   \n",
       "67528  Good people keep leaving...you have to ask you...              2.0   \n",
       "\n",
       "       ... cons_char_length cons_word_count cons_stopword_count  \\\n",
       "67524  ...            160.0            26.0                 9.0   \n",
       "67525  ...            235.0            42.0                24.0   \n",
       "67526  ...             58.0             9.0                 4.0   \n",
       "67527  ...             37.0             5.0                 0.0   \n",
       "67528  ...            129.0            23.0                12.0   \n",
       "\n",
       "      cons_stopword_freq                                               text  \\\n",
       "67524           0.346154  Enriching experience for a beginner but bad fo...   \n",
       "67525           0.571429  A complex and interesting experience - Once yo...   \n",
       "67526           0.444444  Good Place to Work Nice place to work. Good at...   \n",
       "67527           0.000000  It's a competitive work place, with overload w...   \n",
       "67528           0.521739  Used to be great Compensation, Health benefits...   \n",
       "\n",
       "                                          text_processed text_char_length  \\\n",
       "67524  enrich experi beginn bad long term growth acce...            390.0   \n",
       "67525  complex interest experi chang role either choi...            598.0   \n",
       "67526  good place work nice place work good atmospher...            131.0   \n",
       "67527  competit work place overload work item grow po...            173.0   \n",
       "67528  use great compens health benefit brand name re...            220.0   \n",
       "\n",
       "      text_word_count  text_stopword_count  text_stopword_freq  \n",
       "67524            60.0                 19.0            0.316667  \n",
       "67525           103.0                 59.0            0.572816  \n",
       "67526            21.0                  7.0            0.333333  \n",
       "67527            28.0                  9.0            0.321429  \n",
       "67528            37.0                 17.0            0.459459  \n",
       "\n",
       "[5 rows x 38 columns]"
      ]
     },
     "execution_count": 21,
     "metadata": {},
     "output_type": "execute_result"
    }
   ],
   "source": [
    "df.tail()"
   ]
  }
 ],
 "metadata": {
  "kernelspec": {
   "display_name": "Python 3",
   "language": "python",
   "name": "python3"
  },
  "language_info": {
   "codemirror_mode": {
    "name": "ipython",
    "version": 3
   },
   "file_extension": ".py",
   "mimetype": "text/x-python",
   "name": "python",
   "nbconvert_exporter": "python",
   "pygments_lexer": "ipython3",
   "version": "3.6.7"
  }
 },
 "nbformat": 4,
 "nbformat_minor": 2
}
