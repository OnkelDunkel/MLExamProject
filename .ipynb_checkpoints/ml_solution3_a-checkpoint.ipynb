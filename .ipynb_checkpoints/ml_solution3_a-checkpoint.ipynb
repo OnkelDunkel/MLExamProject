{
 "cells": [
  {
   "cell_type": "code",
   "execution_count": 1,
   "metadata": {},
   "outputs": [
    {
     "name": "stdout",
     "output_type": "stream",
     "text": [
      "Populating the interactive namespace from numpy and matplotlib\n"
     ]
    }
   ],
   "source": [
    "%pylab inline\n",
    "import pandas as pd"
   ]
  },
  {
   "cell_type": "code",
   "execution_count": null,
   "metadata": {},
   "outputs": [],
   "source": []
  },
  {
   "cell_type": "code",
   "execution_count": 1,
   "metadata": {},
   "outputs": [
    {
     "name": "stdout",
     "output_type": "stream",
     "text": [
      "['and', 'and this', 'document', 'document is', 'first', 'first document', 'is', 'is the', 'is this', 'one', 'second', 'second document', 'the', 'the first', 'the second', 'the third', 'third', 'third one', 'this', 'this document', 'this is', 'this the']\n",
      "[[0 0 1 0 1 1 1 1 0 0 0 0 1 1 0 0 0 0 1 0 1 0]\n",
      " [0 0 2 1 0 0 1 1 0 0 1 1 1 0 1 0 0 0 1 1 0 0]\n",
      " [1 1 0 0 0 0 1 1 0 1 0 0 1 0 0 1 1 1 1 0 1 0]\n",
      " [0 0 1 0 1 1 1 0 1 0 0 0 1 1 0 0 0 0 1 0 0 1]]\n"
     ]
    }
   ],
   "source": [
    "from sklearn.feature_extraction.text import CountVectorizer\n",
    "corpus = [\n",
    "    'This is the first document.',\n",
    "    'This document is the second document.',\n",
    "    'And this is the third one.',\n",
    "    'Is this the first document?',\n",
    "]\n",
    "vectorizer = CountVectorizer(ngram_range=(1,2))\n",
    "X = vectorizer.fit_transform(corpus)\n",
    "print(vectorizer.get_feature_names())\n",
    "['and', 'document', 'first', 'is', 'one', 'second', 'the', 'third', 'this']\n",
    "print(X.toarray())  "
   ]
  },
  {
   "cell_type": "code",
   "execution_count": null,
   "metadata": {},
   "outputs": [],
   "source": []
  },
  {
   "cell_type": "code",
   "execution_count": 2,
   "metadata": {},
   "outputs": [
    {
     "data": {
      "text/plain": [
       "['Unnamed: 0',\n",
       " 'Unnamed: 0.1',\n",
       " 'company',\n",
       " 'location',\n",
       " 'dates',\n",
       " 'job-title',\n",
       " 'summary',\n",
       " 'pros',\n",
       " 'cons',\n",
       " 'advice-to-mgmt',\n",
       " 'overall-ratings',\n",
       " 'work-balance-stars',\n",
       " 'culture-values-stars',\n",
       " 'carrer-opportunities-stars',\n",
       " 'comp-benefit-stars',\n",
       " 'senior-mangemnet-stars',\n",
       " 'helpful-count',\n",
       " 'link',\n",
       " 'summary_processed',\n",
       " 'summary_char_length',\n",
       " 'summary_word_count',\n",
       " 'summary_stopword_count',\n",
       " 'summary_stopword_freq',\n",
       " 'pros_processed',\n",
       " 'pros_char_length',\n",
       " 'pros_word_count',\n",
       " 'pros_stopword_count',\n",
       " 'pros_stopword_freq',\n",
       " 'cons_processed',\n",
       " 'cons_char_length',\n",
       " 'cons_word_count',\n",
       " 'cons_stopword_count',\n",
       " 'cons_stopword_freq',\n",
       " 'text',\n",
       " 'text_processed',\n",
       " 'text_char_length',\n",
       " 'text_word_count',\n",
       " 'text_stopword_count',\n",
       " 'text_stopword_freq']"
      ]
     },
     "execution_count": 2,
     "metadata": {},
     "output_type": "execute_result"
    }
   ],
   "source": [
    "df = pd.read_csv(\"all_processed2.csv\")\n",
    "df.head(2)\n",
    "df.columns.tolist()"
   ]
  },
  {
   "cell_type": "markdown",
   "metadata": {},
   "source": [
    "### At this point there were still rows left with None or NaN values in summary, pros or cons. We went and removed these rows"
   ]
  },
  {
   "cell_type": "code",
   "execution_count": 3,
   "metadata": {},
   "outputs": [
    {
     "data": {
      "text/plain": [
       "67399"
      ]
     },
     "execution_count": 3,
     "metadata": {},
     "output_type": "execute_result"
    }
   ],
   "source": [
    "df.count()[0]"
   ]
  },
  {
   "cell_type": "code",
   "execution_count": 4,
   "metadata": {},
   "outputs": [],
   "source": [
    "df = df[df[\"summary\"].notna()]\n",
    "df = df[df[\"pros\"].notna()]\n",
    "df = df[df[\"cons\"].notna()]\n",
    "df = df[df[\"overall-ratings\"].notna()]"
   ]
  },
  {
   "cell_type": "markdown",
   "metadata": {},
   "source": [
    "0 rows was removed."
   ]
  },
  {
   "cell_type": "code",
   "execution_count": 5,
   "metadata": {},
   "outputs": [
    {
     "data": {
      "text/plain": [
       "67399"
      ]
     },
     "execution_count": 5,
     "metadata": {},
     "output_type": "execute_result"
    }
   ],
   "source": [
    "df.count()[0]"
   ]
  },
  {
   "cell_type": "markdown",
   "metadata": {},
   "source": [
    "### In order to make it easier to work with the data we added a new column containing the text for summary, pros and cons."
   ]
  },
  {
   "cell_type": "code",
   "execution_count": 6,
   "metadata": {},
   "outputs": [
    {
     "data": {
      "text/html": [
       "<div>\n",
       "<style scoped>\n",
       "    .dataframe tbody tr th:only-of-type {\n",
       "        vertical-align: middle;\n",
       "    }\n",
       "\n",
       "    .dataframe tbody tr th {\n",
       "        vertical-align: top;\n",
       "    }\n",
       "\n",
       "    .dataframe thead th {\n",
       "        text-align: right;\n",
       "    }\n",
       "</style>\n",
       "<table border=\"1\" class=\"dataframe\">\n",
       "  <thead>\n",
       "    <tr style=\"text-align: right;\">\n",
       "      <th></th>\n",
       "      <th>summary</th>\n",
       "      <th>pros</th>\n",
       "      <th>cons</th>\n",
       "      <th>text</th>\n",
       "    </tr>\n",
       "  </thead>\n",
       "  <tbody>\n",
       "    <tr>\n",
       "      <th>0</th>\n",
       "      <td>Best Company to work for</td>\n",
       "      <td>People are smart and friendly</td>\n",
       "      <td>Bureaucracy is slowing things down</td>\n",
       "      <td>Best Company to work for People are smart and ...</td>\n",
       "    </tr>\n",
       "    <tr>\n",
       "      <th>1</th>\n",
       "      <td>Moving at the speed of light, burn out is inev...</td>\n",
       "      <td>1) Food, food, food. 15+ cafes on main campus ...</td>\n",
       "      <td>1) Work/life balance. What balance? All those ...</td>\n",
       "      <td>Moving at the speed of light, burn out is inev...</td>\n",
       "    </tr>\n",
       "    <tr>\n",
       "      <th>2</th>\n",
       "      <td>Great balance between big-company security and...</td>\n",
       "      <td>* If you're a software engineer, you're among ...</td>\n",
       "      <td>* It *is* becoming larger, and with it comes g...</td>\n",
       "      <td>Great balance between big-company security and...</td>\n",
       "    </tr>\n",
       "  </tbody>\n",
       "</table>\n",
       "</div>"
      ],
      "text/plain": [
       "                                             summary  \\\n",
       "0                           Best Company to work for   \n",
       "1  Moving at the speed of light, burn out is inev...   \n",
       "2  Great balance between big-company security and...   \n",
       "\n",
       "                                                pros  \\\n",
       "0                      People are smart and friendly   \n",
       "1  1) Food, food, food. 15+ cafes on main campus ...   \n",
       "2  * If you're a software engineer, you're among ...   \n",
       "\n",
       "                                                cons  \\\n",
       "0                 Bureaucracy is slowing things down   \n",
       "1  1) Work/life balance. What balance? All those ...   \n",
       "2  * It *is* becoming larger, and with it comes g...   \n",
       "\n",
       "                                                text  \n",
       "0  Best Company to work for People are smart and ...  \n",
       "1  Moving at the speed of light, burn out is inev...  \n",
       "2  Great balance between big-company security and...  "
      ]
     },
     "execution_count": 6,
     "metadata": {},
     "output_type": "execute_result"
    }
   ],
   "source": [
    "df[[\"summary\",\"pros\",\"cons\", \"text\"]].head(3)"
   ]
  },
  {
   "cell_type": "markdown",
   "metadata": {},
   "source": [
    "Mean text length in characters"
   ]
  },
  {
   "cell_type": "code",
   "execution_count": 7,
   "metadata": {},
   "outputs": [
    {
     "data": {
      "text/plain": [
       "332.1738007982314"
      ]
     },
     "execution_count": 7,
     "metadata": {},
     "output_type": "execute_result"
    }
   ],
   "source": [
    "np.mean(df[\"text\"].str.len())"
   ]
  },
  {
   "cell_type": "code",
   "execution_count": 8,
   "metadata": {},
   "outputs": [
    {
     "data": {
      "text/plain": [
       "0    5.0\n",
       "1    4.0\n",
       "2    5.0\n",
       "3    5.0\n",
       "4    5.0\n",
       "Name: overall-ratings, dtype: float64"
      ]
     },
     "execution_count": 8,
     "metadata": {},
     "output_type": "execute_result"
    }
   ],
   "source": [
    "df[\"overall-ratings\"].head()"
   ]
  },
  {
   "cell_type": "markdown",
   "metadata": {},
   "source": [
    "### We needed a binary label to be able to predict whether a review was positive or negative. We decided to define positive reviews as a 4-star rating or leaving the rest as negative."
   ]
  },
  {
   "cell_type": "code",
   "execution_count": 9,
   "metadata": {},
   "outputs": [],
   "source": [
    "df[\"label\"] = df.apply(lambda row: 1 if row[\"overall-ratings\"] >= 4 else 0, axis=1)"
   ]
  },
  {
   "cell_type": "code",
   "execution_count": 10,
   "metadata": {},
   "outputs": [
    {
     "data": {
      "image/png": "[encoded data removed]",
      "text/plain": [
       "<Figure size 432x288 with 2 Axes>"
      ]
     },
     "metadata": {},
     "output_type": "display_data"
    }
   ],
   "source": [
    "ax2 = df.plot.scatter(x='cons_word_count',\n",
    "                       y='pros_word_count',\n",
    "                       c='label',\n",
    "                       colormap='viridis')"
   ]
  },
  {
   "cell_type": "code",
   "execution_count": 11,
   "metadata": {},
   "outputs": [
    {
     "data": {
      "image/png": "[encoded data removed]",
      "text/plain": [
       "<Figure size 432x288 with 2 Axes>"
      ]
     },
     "metadata": {},
     "output_type": "display_data"
    }
   ],
   "source": [
    "ax2 = df.plot.scatter(x='cons_word_count',\n",
    "                       y='cons_stopword_freq',\n",
    "                       c='label',\n",
    "                       colormap='viridis')"
   ]
  },
  {
   "cell_type": "code",
   "execution_count": 12,
   "metadata": {},
   "outputs": [
    {
     "data": {
      "image/png": "[encoded data removed]",
      "text/plain": [
       "<Figure size 432x288 with 2 Axes>"
      ]
     },
     "metadata": {},
     "output_type": "display_data"
    }
   ],
   "source": [
    "ax2 = df.plot.scatter(x='text_word_count',\n",
    "                       y='text_stopword_freq',\n",
    "                       c='label',\n",
    "                       colormap='viridis')"
   ]
  },
  {
   "cell_type": "code",
   "execution_count": 19,
   "metadata": {},
   "outputs": [
    {
     "data": {
      "text/plain": [
       "<matplotlib.axes._subplots.AxesSubplot at 0x7f93bfad9978>"
      ]
     },
     "execution_count": 19,
     "metadata": {},
     "output_type": "execute_result"
    },
    {
     "data": {
      "image/png": "[encoded data removed]",
      "text/plain": [
       "<Figure size 432x288 with 2 Axes>"
      ]
     },
     "metadata": {},
     "output_type": "display_data"
    }
   ],
   "source": [
    "import seaborn as sns\n",
    "\n",
    "df2_index = [\"pros_word_count\", \"pros_stopword_freq\", \"pros_stopword_count\", \"pros_char_length\"]\n",
    "df2_index.extend([\"cons_word_count\", \"cons_stopword_freq\", \"cons_stopword_count\", \"cons_char_length\"])\n",
    "df2_index.extend([\"summary_word_count\", \"summary_stopword_freq\", \"summary_stopword_count\", \"summary_char_length\"])\n",
    "df2_index.extend([\"text_word_count\", \"text_stopword_freq\", \"text_stopword_count\", \"text_char_length\"])\n",
    "df2_index.extend([\"label\"])\n",
    "\n",
    "'''\n",
    "df2_index = [\"pros_word_count\", \"pros_stopword_freq\"]\n",
    "df2_index.extend([\"cons_word_count\", \"cons_stopword_freq\"])\n",
    "df2_index.extend([\"summary_word_count\", \"summary_stopword_freq\"])\n",
    "df2_index.extend([\"label\"])\n",
    "'''\n",
    "\n",
    "df2_index = [\"pros_word_count\", \"pros_stopword_freq\", \"pros_char_length\"]\n",
    "df2_index.extend([\"cons_word_count\", \"cons_stopword_freq\", \"cons_char_length\"])\n",
    "df2_index.extend([\"summary_word_count\", \"summary_stopword_freq\", \"summary_char_length\"])\n",
    "df2_index.extend([\"label\"])\n",
    "\n",
    "\n",
    "df2 = df[df2_index]\n",
    "sns.heatmap(df2.corr())"
   ]
  },
  {
   "cell_type": "code",
   "execution_count": 20,
   "metadata": {},
   "outputs": [],
   "source": [
    "from sklearn.model_selection import KFold\n",
    "from sklearn.pipeline import make_pipeline\n",
    "from sklearn.preprocessing import StandardScaler\n",
    "from sklearn.model_selection import cross_val_score\n",
    "\n",
    "y = df2[\"label\"]\n",
    "X = df2.drop([\"label\"], axis=1)\n",
    "\n",
    "kf = KFold(n_splits=10, shuffle=True, random_state=4)\n",
    "def do_cross_val(model):\n",
    "    acc_score = cross_val_score(model, X, y, cv=kf)\n",
    "    print(acc_score)\n",
    "    print(np.mean(acc_score))"
   ]
  },
  {
   "cell_type": "code",
   "execution_count": 21,
   "metadata": {},
   "outputs": [
    {
     "name": "stdout",
     "output_type": "stream",
     "text": [
      "[0.71795252 0.72017804 0.72329377 0.72596439 0.72299703 0.71691395\n",
      " 0.73293769 0.71632047 0.71750742 0.71331058]\n",
      "0.7207375862103887\n"
     ]
    }
   ],
   "source": [
    "from sklearn.neighbors import KNeighborsClassifier\n",
    "from sklearn.preprocessing import StandardScaler\n",
    "\n",
    "pipe_knn = make_pipeline(StandardScaler(with_mean=False), KNeighborsClassifier(n_neighbors=10))\n",
    "acc = do_cross_val(pipe_knn)"
   ]
  },
  {
   "cell_type": "code",
   "execution_count": 22,
   "metadata": {
    "scrolled": true
   },
   "outputs": [
    {
     "name": "stdout",
     "output_type": "stream",
     "text": [
      "[0.74376855 0.74362018 0.74940653 0.74643917 0.74391691 0.74792285\n",
      " 0.76246291 0.74970326 0.73991098 0.73408518]\n",
      "0.7461236511153686\n"
     ]
    }
   ],
   "source": [
    "from sklearn.linear_model import LogisticRegression\n",
    "\n",
    "pipe_lr = make_pipeline(StandardScaler(with_mean=False), LogisticRegression(random_state=21, solver='liblinear', C=1))\n",
    "do_cross_val(pipe_lr)"
   ]
  },
  {
   "cell_type": "code",
   "execution_count": 23,
   "metadata": {},
   "outputs": [
    {
     "name": "stdout",
     "output_type": "stream",
     "text": [
      "[0.66083086 0.65697329 0.6620178  0.65919881 0.65237389 0.6648368\n",
      " 0.66543027 0.66350148 0.65459941 0.6627096 ]\n",
      "0.6602472212106948\n"
     ]
    }
   ],
   "source": [
    "from sklearn.tree import DecisionTreeClassifier\n",
    "\n",
    "pipe_dt = make_pipeline(StandardScaler(with_mean=False), DecisionTreeClassifier(max_depth=45, random_state=21))\n",
    "do_cross_val(pipe_dt)"
   ]
  },
  {
   "cell_type": "code",
   "execution_count": 24,
   "metadata": {},
   "outputs": [
    {
     "name": "stdout",
     "output_type": "stream",
     "text": [
      "[0.70652819 0.71083086 0.71454006 0.70964392 0.70400593 0.71261128\n",
      " 0.72195846 0.71320475 0.70326409 0.69550378]\n",
      "0.7092091321036194\n"
     ]
    }
   ],
   "source": [
    "from sklearn.naive_bayes import GaussianNB\n",
    "\n",
    "pipe_nb = make_pipeline(StandardScaler(with_mean=False), GaussianNB())\n",
    "do_cross_val(pipe_nb)"
   ]
  },
  {
   "cell_type": "code",
   "execution_count": null,
   "metadata": {},
   "outputs": [],
   "source": [
    "from sklearn.svm import SVC\n",
    "\n",
    "pipe_svm = make_pipeline(StandardScaler(with_mean=False), SVC(C=.1, random_state=21, kernel=\"poly\", gamma=\"auto\"))\n",
    "do_cross_val(pipe_svm)"
   ]
  },
  {
   "cell_type": "code",
   "execution_count": null,
   "metadata": {},
   "outputs": [],
   "source": [
    "prev"
   ]
  },
  {
   "cell_type": "code",
   "execution_count": null,
   "metadata": {},
   "outputs": [],
   "source": []
  },
  {
   "cell_type": "markdown",
   "metadata": {},
   "source": [
    "### Now with the label column we can see that the dataset is quite unbalanced"
   ]
  },
  {
   "cell_type": "code",
   "execution_count": 25,
   "metadata": {},
   "outputs": [
    {
     "name": "stdout",
     "output_type": "stream",
     "text": [
      "Positive: 45607, Negative: 21792\n"
     ]
    }
   ],
   "source": [
    "df_pos = df[df[\"label\"] == 1]\n",
    "df_neg = df[df[\"label\"] == 0]\n",
    "print(\"Positive: {0}, Negative: {1}\".format(df_pos.count()[0], df_neg.count()[0]))"
   ]
  },
  {
   "cell_type": "markdown",
   "metadata": {},
   "source": [
    "### We did a resampling in order to balance out the dataset"
   ]
  },
  {
   "cell_type": "code",
   "execution_count": 26,
   "metadata": {},
   "outputs": [],
   "source": [
    "from sklearn.utils import resample"
   ]
  },
  {
   "cell_type": "code",
   "execution_count": 27,
   "metadata": {},
   "outputs": [],
   "source": [
    "df_pos_res = resample(df_pos, \n",
    "                   n_samples=df_neg.count()[0], \n",
    "                   random_state=23)"
   ]
  },
  {
   "cell_type": "code",
   "execution_count": 28,
   "metadata": {},
   "outputs": [
    {
     "data": {
      "text/plain": [
       "21792"
      ]
     },
     "execution_count": 28,
     "metadata": {},
     "output_type": "execute_result"
    }
   ],
   "source": [
    "df_pos_res.count()[0]"
   ]
  },
  {
   "cell_type": "code",
   "execution_count": 29,
   "metadata": {},
   "outputs": [],
   "source": [
    "df = df_neg.append(df_pos_res)"
   ]
  },
  {
   "cell_type": "code",
   "execution_count": 30,
   "metadata": {},
   "outputs": [],
   "source": [
    "y = df[\"label\"]"
   ]
  },
  {
   "cell_type": "markdown",
   "metadata": {},
   "source": [
    "### We used the TfidVectorizer from sci-kit learn to transform the strings into word vectors. We chose to only vectorize the 3000 most common words for simplicity sake."
   ]
  },
  {
   "cell_type": "code",
   "execution_count": 45,
   "metadata": {},
   "outputs": [],
   "source": [
    "from sklearn.feature_extraction.text import TfidfVectorizer\n",
    "no_of_words = 3000\n",
    "tfidf = TfidfVectorizer(max_features=no_of_words, ngram_range=(1,2))"
   ]
  },
  {
   "cell_type": "code",
   "execution_count": 46,
   "metadata": {},
   "outputs": [
    {
     "data": {
      "text/plain": [
       "(43584, 3000)"
      ]
     },
     "execution_count": 46,
     "metadata": {},
     "output_type": "execute_result"
    }
   ],
   "source": [
    "X = tfidf.fit_transform(df[\"text\"].tolist())\n",
    "X.shape"
   ]
  },
  {
   "cell_type": "code",
   "execution_count": null,
   "metadata": {},
   "outputs": [],
   "source": []
  },
  {
   "cell_type": "markdown",
   "metadata": {},
   "source": [
    "### We devided the data into training and testing data"
   ]
  },
  {
   "cell_type": "code",
   "execution_count": 47,
   "metadata": {},
   "outputs": [],
   "source": [
    "from sklearn.model_selection import train_test_split\n",
    "\n",
    "X_train, X_test, y_train, y_test = train_test_split(X, \n",
    "                                                    y, \n",
    "                                                    test_size=0.2, \n",
    "                                                    random_state=22)"
   ]
  },
  {
   "cell_type": "markdown",
   "metadata": {},
   "source": [
    "### In order to reduce the dimensionality of the input data we created an autoencoder"
   ]
  },
  {
   "cell_type": "code",
   "execution_count": 48,
   "metadata": {},
   "outputs": [],
   "source": [
    "import keras.layers as layers\n",
    "import keras.models as models\n",
    "\n",
    "encoding_dim = 32\n",
    "\n",
    "input_layer = layers.Input(shape=(no_of_words,))\n",
    "encoded = layers.Dense(encoding_dim, activation='relu')(input_layer)\n",
    "decoded = layers.Dense(no_of_words, activation='sigmoid')(encoded)"
   ]
  },
  {
   "cell_type": "code",
   "execution_count": 49,
   "metadata": {},
   "outputs": [],
   "source": [
    "autoencoder = models.Model(input_layer, decoded)"
   ]
  },
  {
   "cell_type": "code",
   "execution_count": 50,
   "metadata": {},
   "outputs": [],
   "source": [
    "encoder = models.Model(input_layer, encoded)"
   ]
  },
  {
   "cell_type": "code",
   "execution_count": 51,
   "metadata": {},
   "outputs": [],
   "source": [
    "autoencoder.compile(optimizer='adadelta', loss='binary_crossentropy')"
   ]
  },
  {
   "cell_type": "code",
   "execution_count": 52,
   "metadata": {},
   "outputs": [
    {
     "name": "stdout",
     "output_type": "stream",
     "text": [
      "Epoch 1/10\n",
      "34867/34867 [==============================] - 5s 148us/step - loss: 0.6876\n",
      "Epoch 2/10\n",
      "34867/34867 [==============================] - 5s 140us/step - loss: 0.6763\n",
      "Epoch 3/10\n",
      "34867/34867 [==============================] - 5s 144us/step - loss: 0.6627\n",
      "Epoch 4/10\n",
      "34867/34867 [==============================] - 5s 143us/step - loss: 0.6266\n",
      "Epoch 5/10\n",
      "34867/34867 [==============================] - 5s 133us/step - loss: 0.4686\n",
      "Epoch 6/10\n",
      "34867/34867 [==============================] - 5s 131us/step - loss: 0.2033\n",
      "Epoch 7/10\n",
      "34867/34867 [==============================] - 5s 132us/step - loss: 0.0814\n",
      "Epoch 8/10\n",
      "34867/34867 [==============================] - 5s 133us/step - loss: 0.0456\n",
      "Epoch 9/10\n",
      "34867/34867 [==============================] - 5s 133us/step - loss: 0.0321\n",
      "Epoch 10/10\n",
      "34867/34867 [==============================] - 5s 133us/step - loss: 0.0256\n"
     ]
    },
    {
     "data": {
      "text/plain": [
       "<keras.callbacks.History at 0x7f9304399cf8>"
      ]
     },
     "execution_count": 52,
     "metadata": {},
     "output_type": "execute_result"
    }
   ],
   "source": [
    "autoencoder.fit(X_train, X_train,\n",
    "                epochs=10,\n",
    "                batch_size=256,\n",
    "                shuffle=True)"
   ]
  },
  {
   "cell_type": "code",
   "execution_count": 53,
   "metadata": {},
   "outputs": [
    {
     "data": {
      "text/plain": [
       "(34867, 32)"
      ]
     },
     "execution_count": 53,
     "metadata": {},
     "output_type": "execute_result"
    }
   ],
   "source": [
    "X_train_encoded = encoder.predict(X_train)\n",
    "X_train_encoded.shape"
   ]
  },
  {
   "cell_type": "code",
   "execution_count": 54,
   "metadata": {},
   "outputs": [
    {
     "data": {
      "text/plain": [
       "numpy.ndarray"
      ]
     },
     "execution_count": 54,
     "metadata": {},
     "output_type": "execute_result"
    }
   ],
   "source": [
    "type(X_train_encoded)"
   ]
  },
  {
   "cell_type": "code",
   "execution_count": 55,
   "metadata": {},
   "outputs": [
    {
     "data": {
      "text/plain": [
       "(34867,)"
      ]
     },
     "execution_count": 55,
     "metadata": {},
     "output_type": "execute_result"
    }
   ],
   "source": [
    "y_train.shape"
   ]
  },
  {
   "cell_type": "markdown",
   "metadata": {},
   "source": [
    "### We created a function to easily run cross_val_score on the model with the correct data and print out the results"
   ]
  },
  {
   "cell_type": "code",
   "execution_count": 56,
   "metadata": {},
   "outputs": [],
   "source": [
    "from sklearn.model_selection import KFold\n",
    "from sklearn.pipeline import make_pipeline\n",
    "from sklearn.preprocessing import StandardScaler\n",
    "from sklearn.model_selection import cross_val_score\n",
    "\n",
    "kf = KFold(n_splits=10, shuffle=True, random_state=4)\n",
    "def do_cross_val(model):\n",
    "    acc_score = cross_val_score(model, X_train_encoded, y_train, cv=kf)\n",
    "    print(acc_score)\n",
    "    print(np.mean(acc_score))"
   ]
  },
  {
   "cell_type": "markdown",
   "metadata": {},
   "source": [
    "### We ran with various different models trying to tweak the settings for best result"
   ]
  },
  {
   "cell_type": "code",
   "execution_count": 57,
   "metadata": {},
   "outputs": [
    {
     "name": "stdout",
     "output_type": "stream",
     "text": [
      "[0.56438199 0.55176369 0.55233725 0.54946946 0.54172641 0.547462\n",
      " 0.55348437 0.55651176 0.55507745 0.54618474]\n",
      "0.5518399132191842\n"
     ]
    }
   ],
   "source": [
    "from sklearn.neighbors import KNeighborsClassifier\n",
    "from sklearn.preprocessing import StandardScaler\n",
    "\n",
    "pipe_knn = make_pipeline(StandardScaler(with_mean=False), KNeighborsClassifier(n_neighbors=10))\n",
    "do_cross_val(pipe_knn)"
   ]
  },
  {
   "cell_type": "code",
   "execution_count": 58,
   "metadata": {},
   "outputs": [
    {
     "name": "stdout",
     "output_type": "stream",
     "text": [
      "[0.56868368 0.56237453 0.57556639 0.57527961 0.56352165 0.57527961\n",
      " 0.56438199 0.57056799 0.56110155 0.58175559]\n",
      "0.5698512596825089\n"
     ]
    }
   ],
   "source": [
    "from sklearn.linear_model import LogisticRegression\n",
    "\n",
    "pipe_lr = make_pipeline(StandardScaler(with_mean=False), LogisticRegression(random_state=21, solver='liblinear', C=1))\n",
    "do_cross_val(pipe_lr)"
   ]
  },
  {
   "cell_type": "code",
   "execution_count": 59,
   "metadata": {},
   "outputs": [
    {
     "name": "stdout",
     "output_type": "stream",
     "text": [
      "[0.59506739 0.60137654 0.60825925 0.59994264 0.59277316 0.60854603\n",
      " 0.59305994 0.58146873 0.59781985 0.60126219]\n",
      "0.5979575724340271\n"
     ]
    }
   ],
   "source": [
    "from sklearn.tree import DecisionTreeClassifier\n",
    "\n",
    "pipe_dt = make_pipeline(StandardScaler(with_mean=False), DecisionTreeClassifier(max_depth=45, random_state=21))\n",
    "do_cross_val(pipe_dt)"
   ]
  },
  {
   "cell_type": "code",
   "execution_count": 60,
   "metadata": {},
   "outputs": [
    {
     "name": "stdout",
     "output_type": "stream",
     "text": [
      "[0.55463149 0.54115285 0.53943218 0.55061658 0.54344709 0.53541726\n",
      " 0.55291081 0.55077453 0.53815261 0.55077453]\n",
      "0.5457309923046686\n"
     ]
    }
   ],
   "source": [
    "from sklearn.naive_bayes import GaussianNB\n",
    "\n",
    "pipe_nb = make_pipeline(StandardScaler(with_mean=False), GaussianNB())\n",
    "do_cross_val(pipe_nb)"
   ]
  },
  {
   "cell_type": "code",
   "execution_count": null,
   "metadata": {},
   "outputs": [],
   "source": [
    "acc_score = cross_val_score(pipe_nb, X_train.toarray(), y_train, cv=kf)\n",
    "print(acc_score)\n",
    "print(np.mean(acc_score))"
   ]
  },
  {
   "cell_type": "markdown",
   "metadata": {},
   "source": [
    "Since the SVM classifier was very slow at training the data we trained on only 1000 samples so we could easily tweak the settings and retrain the model"
   ]
  },
  {
   "cell_type": "code",
   "execution_count": null,
   "metadata": {},
   "outputs": [],
   "source": [
    "Xs = encoder.predict(X_test[:1000])\n",
    "ys = y_test[:1000]"
   ]
  },
  {
   "cell_type": "code",
   "execution_count": null,
   "metadata": {},
   "outputs": [],
   "source": [
    "from sklearn.svm import SVC\n",
    "\n",
    "pipe_svm = make_pipeline(StandardScaler(with_mean=False), SVC(C=.1, random_state=21, kernel=\"rbf\", gamma=\"auto\"))\n",
    "acc_score = cross_val_score(pipe_svm, Xs, ys, cv=kf)\n",
    "print(acc_score)\n",
    "print(np.mean(acc_score))"
   ]
  },
  {
   "cell_type": "markdown",
   "metadata": {},
   "source": [
    "Of all of the ML models we used the D-Tree seemed to perform the best with an accuracy of almost 60%"
   ]
  },
  {
   "cell_type": "markdown",
   "metadata": {},
   "source": [
    "## Conclusion"
   ]
  },
  {
   "cell_type": "markdown",
   "metadata": {},
   "source": [
    "Did we manage to create a model that could answer the business question? With 60%-ish accuracy, yes.\n",
    "The accuracy of the model is not utterly impressive. We might be able to improve the predictions by using a neural network but that will be for some other time.\n",
    "However we learned a lot about Natural Language Processing and we think we will be able to do better in the future."
   ]
  }
 ],
 "metadata": {
  "kernelspec": {
   "display_name": "Python 3",
   "language": "python",
   "name": "python3"
  },
  "language_info": {
   "codemirror_mode": {
    "name": "ipython",
    "version": 3
   },
   "file_extension": ".py",
   "mimetype": "text/x-python",
   "name": "python",
   "nbconvert_exporter": "python",
   "pygments_lexer": "ipython3",
   "version": "3.6.7"
  }
 },
 "nbformat": 4,
 "nbformat_minor": 2
}
