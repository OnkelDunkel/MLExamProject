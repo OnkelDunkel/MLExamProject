{
 "cells": [
  {
   "cell_type": "code",
   "execution_count": 1,
   "metadata": {},
   "outputs": [
    {
     "name": "stdout",
     "output_type": "stream",
     "text": [
      "Populating the interactive namespace from numpy and matplotlib\n"
     ]
    }
   ],
   "source": [
    "%pylab inline\n",
    "import pandas as pd"
   ]
  },
  {
   "cell_type": "code",
   "execution_count": 2,
   "metadata": {},
   "outputs": [],
   "source": [
    "df = pd.read_csv(\"employee_reviews.csv\")"
   ]
  },
  {
   "cell_type": "code",
   "execution_count": 3,
   "metadata": {
    "scrolled": false
   },
   "outputs": [
    {
     "data": {
      "text/html": [
       "<div>\n",
       "<style scoped>\n",
       "    .dataframe tbody tr th:only-of-type {\n",
       "        vertical-align: middle;\n",
       "    }\n",
       "\n",
       "    .dataframe tbody tr th {\n",
       "        vertical-align: top;\n",
       "    }\n",
       "\n",
       "    .dataframe thead th {\n",
       "        text-align: right;\n",
       "    }\n",
       "</style>\n",
       "<table border=\"1\" class=\"dataframe\">\n",
       "  <thead>\n",
       "    <tr style=\"text-align: right;\">\n",
       "      <th></th>\n",
       "      <th>Unnamed: 0</th>\n",
       "      <th>company</th>\n",
       "      <th>location</th>\n",
       "      <th>dates</th>\n",
       "      <th>job-title</th>\n",
       "      <th>summary</th>\n",
       "      <th>pros</th>\n",
       "      <th>cons</th>\n",
       "      <th>advice-to-mgmt</th>\n",
       "      <th>overall-ratings</th>\n",
       "      <th>work-balance-stars</th>\n",
       "      <th>culture-values-stars</th>\n",
       "      <th>carrer-opportunities-stars</th>\n",
       "      <th>comp-benefit-stars</th>\n",
       "      <th>senior-mangemnet-stars</th>\n",
       "      <th>helpful-count</th>\n",
       "      <th>link</th>\n",
       "    </tr>\n",
       "  </thead>\n",
       "  <tbody>\n",
       "    <tr>\n",
       "      <th>0</th>\n",
       "      <td>1</td>\n",
       "      <td>google</td>\n",
       "      <td>none</td>\n",
       "      <td>Dec 11, 2018</td>\n",
       "      <td>Current Employee - Anonymous Employee</td>\n",
       "      <td>Best Company to work for</td>\n",
       "      <td>People are smart and friendly</td>\n",
       "      <td>Bureaucracy is slowing things down</td>\n",
       "      <td>none</td>\n",
       "      <td>5.0</td>\n",
       "      <td>4.0</td>\n",
       "      <td>5.0</td>\n",
       "      <td>5.0</td>\n",
       "      <td>4.0</td>\n",
       "      <td>5.0</td>\n",
       "      <td>0</td>\n",
       "      <td>https://www.glassdoor.com/Reviews/Google-Revie...</td>\n",
       "    </tr>\n",
       "  </tbody>\n",
       "</table>\n",
       "</div>"
      ],
      "text/plain": [
       "   Unnamed: 0 company location          dates  \\\n",
       "0           1  google     none   Dec 11, 2018   \n",
       "\n",
       "                               job-title                   summary  \\\n",
       "0  Current Employee - Anonymous Employee  Best Company to work for   \n",
       "\n",
       "                            pros                                cons  \\\n",
       "0  People are smart and friendly  Bureaucracy is slowing things down   \n",
       "\n",
       "  advice-to-mgmt  overall-ratings work-balance-stars culture-values-stars  \\\n",
       "0           none              5.0                4.0                  5.0   \n",
       "\n",
       "  carrer-opportunities-stars comp-benefit-stars senior-mangemnet-stars  \\\n",
       "0                        5.0                4.0                    5.0   \n",
       "\n",
       "   helpful-count                                               link  \n",
       "0              0  https://www.glassdoor.com/Reviews/Google-Revie...  "
      ]
     },
     "execution_count": 3,
     "metadata": {},
     "output_type": "execute_result"
    }
   ],
   "source": [
    "df.head(1)"
   ]
  },
  {
   "cell_type": "code",
   "execution_count": 4,
   "metadata": {},
   "outputs": [
    {
     "data": {
      "text/plain": [
       "67529"
      ]
     },
     "execution_count": 4,
     "metadata": {},
     "output_type": "execute_result"
    }
   ],
   "source": [
    "df.count()[0]"
   ]
  },
  {
   "cell_type": "code",
   "execution_count": 5,
   "metadata": {},
   "outputs": [],
   "source": [
    "def clean_by_clmn(df, clmn_name):\n",
    "    df = df[df[clmn_name] != \"none\"]\n",
    "    df = df[df[clmn_name] != \"\"]\n",
    "    return df"
   ]
  },
  {
   "cell_type": "code",
   "execution_count": 6,
   "metadata": {},
   "outputs": [],
   "source": [
    "df = clean_by_clmn(df, \"summary\")\n",
    "df = df = clean_by_clmn(df, \"pros\")\n",
    "df = clean_by_clmn(df, \"cons\")"
   ]
  },
  {
   "cell_type": "code",
   "execution_count": 7,
   "metadata": {},
   "outputs": [
    {
     "data": {
      "text/plain": [
       "67519"
      ]
     },
     "execution_count": 7,
     "metadata": {},
     "output_type": "execute_result"
    }
   ],
   "source": [
    "df.count()[0]"
   ]
  },
  {
   "cell_type": "code",
   "execution_count": 8,
   "metadata": {},
   "outputs": [],
   "source": [
    "import re\n",
    "import nltk\n",
    "#nltk.download(\"stopwords\")\n",
    "from nltk.corpus import stopwords\n",
    "from nltk.stem.porter import PorterStemmer\n",
    "\n",
    "stopwords = set(stopwords.words(\"english\"))\n",
    "ps = PorterStemmer()"
   ]
  },
  {
   "cell_type": "code",
   "execution_count": 14,
   "metadata": {},
   "outputs": [],
   "source": [
    "def clean_text_serie(df, serie_name):\n",
    "    print(\"clean_text_serie() is going to take some time...\")\n",
    "    j = 1000\n",
    "    start_time = time.time()\n",
    "    df_count = df.count()[0]\n",
    "    for i, row in df.iterrows():\n",
    "        \n",
    "        if (i == j):\n",
    "            up_time = (time.time() - start_time)/60\n",
    "            \n",
    "            remaining = int((up_time * (df_count/i)) - up_time)\n",
    "            \n",
    "            print(\"{0}/{1} - {2} minutes since start - estimate: {3} minutes left\"\n",
    "                  .format(i,df_count,int(up_time),remaining))\n",
    "            j+=1000\n",
    "            \n",
    "        if (i not in df.index):\n",
    "            continue\n",
    "            \n",
    "        cleaned = df[serie_name][i]\n",
    "        if(type(cleaned) is float and np.isnan(cleaned)):\n",
    "            cleaned = \"\"\n",
    "            \n",
    "        cleaned = cleaned.lower()\n",
    "        cleaned = re.sub(\"[^a-z]\", \" \", cleaned)\n",
    "        cleaned = cleaned.split()\n",
    "        cleaned = [ps.stem(word) for word in cleaned if not word in stopwords]\n",
    "        df[serie_name][i] = \" \".join(cleaned)\n",
    "    \n",
    "    print(\"clean_text_serie() is finished!\")\n",
    "    return df"
   ]
  },
  {
   "cell_type": "code",
   "execution_count": 10,
   "metadata": {},
   "outputs": [
    {
     "data": {
      "text/plain": [
       "67399"
      ]
     },
     "execution_count": 10,
     "metadata": {},
     "output_type": "execute_result"
    }
   ],
   "source": [
    "serie = df[\"summary\"]\n",
    "serie.count()"
   ]
  },
  {
   "cell_type": "code",
   "execution_count": 11,
   "metadata": {},
   "outputs": [
    {
     "data": {
      "text/plain": [
       "0                             Best Company to work for\n",
       "1    Moving at the speed of light, burn out is inev...\n",
       "2    Great balance between big-company security and...\n",
       "3    The best place I've worked and also the most d...\n",
       "4                      Unique, one of a kind dream job\n",
       "Name: summary, dtype: object"
      ]
     },
     "execution_count": 11,
     "metadata": {},
     "output_type": "execute_result"
    }
   ],
   "source": [
    "df.head()[\"summary\"]"
   ]
  },
  {
   "cell_type": "code",
   "execution_count": 12,
   "metadata": {},
   "outputs": [
    {
     "name": "stdout",
     "output_type": "stream",
     "text": [
      "clean_text_serie() is going to take some time...\n"
     ]
    },
    {
     "name": "stderr",
     "output_type": "stream",
     "text": [
      "/usr/lib/python3/dist-packages/ipykernel_launcher.py:28: SettingWithCopyWarning: \n",
      "A value is trying to be set on a copy of a slice from a DataFrame\n",
      "\n",
      "See the caveats in the documentation: http://pandas.pydata.org/pandas-docs/stable/indexing.html#indexing-view-versus-copy\n"
     ]
    },
    {
     "name": "stdout",
     "output_type": "stream",
     "text": [
      "1000/67519 - 0 minutes since start - estimate: 28 minutes left\n",
      "2000/67519 - 0 minutes since start - estimate: 28 minutes left\n",
      "3000/67519 - 1 minutes since start - estimate: 28 minutes left\n",
      "4000/67519 - 1 minutes since start - estimate: 28 minutes left\n",
      "5000/67519 - 2 minutes since start - estimate: 28 minutes left\n",
      "6000/67519 - 2 minutes since start - estimate: 27 minutes left\n",
      "7000/67519 - 2 minutes since start - estimate: 27 minutes left\n",
      "8000/67519 - 3 minutes since start - estimate: 27 minutes left\n",
      "9000/67519 - 3 minutes since start - estimate: 27 minutes left\n",
      "10000/67519 - 4 minutes since start - estimate: 27 minutes left\n",
      "11000/67519 - 4 minutes since start - estimate: 27 minutes left\n",
      "12000/67519 - 4 minutes since start - estimate: 27 minutes left\n",
      "13000/67519 - 5 minutes since start - estimate: 27 minutes left\n",
      "14000/67519 - 5 minutes since start - estimate: 27 minutes left\n",
      "15000/67519 - 6 minutes since start - estimate: 27 minutes left\n",
      "16000/67519 - 6 minutes since start - estimate: 27 minutes left\n",
      "17000/67519 - 7 minutes since start - estimate: 27 minutes left\n",
      "18000/67519 - 7 minutes since start - estimate: 27 minutes left\n",
      "19000/67519 - 7 minutes since start - estimate: 27 minutes left\n",
      "20000/67519 - 8 minutes since start - estimate: 28 minutes left\n",
      "21000/67519 - 8 minutes since start - estimate: 28 minutes left\n",
      "22000/67519 - 9 minutes since start - estimate: 28 minutes left\n",
      "23000/67519 - 9 minutes since start - estimate: 28 minutes left\n",
      "24000/67519 - 9 minutes since start - estimate: 28 minutes left\n",
      "25000/67519 - 10 minutes since start - estimate: 28 minutes left\n",
      "26000/67519 - 10 minutes since start - estimate: 28 minutes left\n",
      "27000/67519 - 11 minutes since start - estimate: 28 minutes left\n",
      "28000/67519 - 11 minutes since start - estimate: 28 minutes left\n",
      "29000/67519 - 12 minutes since start - estimate: 28 minutes left\n",
      "30000/67519 - 12 minutes since start - estimate: 28 minutes left\n",
      "31000/67519 - 12 minutes since start - estimate: 28 minutes left\n",
      "32000/67519 - 13 minutes since start - estimate: 28 minutes left\n",
      "33000/67519 - 13 minutes since start - estimate: 28 minutes left\n",
      "34000/67519 - 14 minutes since start - estimate: 28 minutes left\n",
      "35000/67519 - 14 minutes since start - estimate: 28 minutes left\n",
      "36000/67519 - 14 minutes since start - estimate: 28 minutes left\n",
      "37000/67519 - 15 minutes since start - estimate: 28 minutes left\n",
      "38000/67519 - 15 minutes since start - estimate: 28 minutes left\n",
      "39000/67519 - 16 minutes since start - estimate: 28 minutes left\n",
      "40000/67519 - 16 minutes since start - estimate: 28 minutes left\n",
      "41000/67519 - 17 minutes since start - estimate: 28 minutes left\n",
      "42000/67519 - 17 minutes since start - estimate: 28 minutes left\n",
      "43000/67519 - 18 minutes since start - estimate: 28 minutes left\n",
      "44000/67519 - 18 minutes since start - estimate: 28 minutes left\n",
      "45000/67519 - 19 minutes since start - estimate: 28 minutes left\n",
      "46000/67519 - 19 minutes since start - estimate: 28 minutes left\n",
      "47000/67519 - 19 minutes since start - estimate: 28 minutes left\n",
      "48000/67519 - 20 minutes since start - estimate: 28 minutes left\n",
      "49000/67519 - 20 minutes since start - estimate: 28 minutes left\n",
      "50000/67519 - 21 minutes since start - estimate: 28 minutes left\n",
      "51000/67519 - 21 minutes since start - estimate: 28 minutes left\n",
      "52000/67519 - 22 minutes since start - estimate: 28 minutes left\n",
      "53000/67519 - 22 minutes since start - estimate: 28 minutes left\n",
      "54000/67519 - 22 minutes since start - estimate: 28 minutes left\n",
      "55000/67519 - 23 minutes since start - estimate: 28 minutes left\n",
      "56000/67519 - 23 minutes since start - estimate: 28 minutes left\n",
      "57000/67519 - 24 minutes since start - estimate: 28 minutes left\n",
      "58000/67519 - 24 minutes since start - estimate: 28 minutes left\n",
      "59000/67519 - 25 minutes since start - estimate: 28 minutes left\n",
      "60000/67519 - 25 minutes since start - estimate: 28 minutes left\n",
      "61000/67519 - 25 minutes since start - estimate: 28 minutes left\n",
      "62000/67519 - 26 minutes since start - estimate: 28 minutes left\n",
      "63000/67519 - 26 minutes since start - estimate: 28 minutes left\n",
      "64000/67519 - 27 minutes since start - estimate: 28 minutes left\n",
      "65000/67519 - 27 minutes since start - estimate: 28 minutes left\n",
      "66000/67519 - 27 minutes since start - estimate: 28 minutes left\n",
      "67000/67519 - 28 minutes since start - estimate: 28 minutes left\n",
      "clean_text_serie() is finished!\n"
     ]
    }
   ],
   "source": [
    "df = clean_text_serie(df, \"summary\")"
   ]
  },
  {
   "cell_type": "code",
   "execution_count": 16,
   "metadata": {},
   "outputs": [
    {
     "name": "stdout",
     "output_type": "stream",
     "text": [
      "clean_text_serie() is going to take some time...\n"
     ]
    },
    {
     "name": "stderr",
     "output_type": "stream",
     "text": [
      "/usr/lib/python3/dist-packages/ipykernel_launcher.py:28: SettingWithCopyWarning: \n",
      "A value is trying to be set on a copy of a slice from a DataFrame\n",
      "\n",
      "See the caveats in the documentation: http://pandas.pydata.org/pandas-docs/stable/indexing.html#indexing-view-versus-copy\n"
     ]
    },
    {
     "name": "stdout",
     "output_type": "stream",
     "text": [
      "1000/67519 - 0 minutes since start - estimate: 30 minutes left\n",
      "2000/67519 - 0 minutes since start - estimate: 29 minutes left\n",
      "3000/67519 - 1 minutes since start - estimate: 28 minutes left\n",
      "4000/67519 - 1 minutes since start - estimate: 27 minutes left\n",
      "5000/67519 - 2 minutes since start - estimate: 27 minutes left\n",
      "6000/67519 - 2 minutes since start - estimate: 26 minutes left\n",
      "7000/67519 - 3 minutes since start - estimate: 26 minutes left\n",
      "8000/67519 - 3 minutes since start - estimate: 25 minutes left\n",
      "9000/67519 - 3 minutes since start - estimate: 25 minutes left\n",
      "10000/67519 - 4 minutes since start - estimate: 24 minutes left\n",
      "11000/67519 - 4 minutes since start - estimate: 24 minutes left\n",
      "12000/67519 - 5 minutes since start - estimate: 23 minutes left\n",
      "13000/67519 - 5 minutes since start - estimate: 23 minutes left\n",
      "14000/67519 - 6 minutes since start - estimate: 23 minutes left\n",
      "15000/67519 - 6 minutes since start - estimate: 22 minutes left\n",
      "16000/67519 - 6 minutes since start - estimate: 22 minutes left\n",
      "17000/67519 - 7 minutes since start - estimate: 21 minutes left\n",
      "18000/67519 - 7 minutes since start - estimate: 21 minutes left\n",
      "19000/67519 - 8 minutes since start - estimate: 20 minutes left\n",
      "20000/67519 - 8 minutes since start - estimate: 20 minutes left\n",
      "21000/67519 - 9 minutes since start - estimate: 20 minutes left\n",
      "22000/67519 - 9 minutes since start - estimate: 19 minutes left\n",
      "23000/67519 - 9 minutes since start - estimate: 19 minutes left\n",
      "24000/67519 - 10 minutes since start - estimate: 18 minutes left\n",
      "25000/67519 - 10 minutes since start - estimate: 18 minutes left\n",
      "26000/67519 - 11 minutes since start - estimate: 17 minutes left\n",
      "27000/67519 - 11 minutes since start - estimate: 17 minutes left\n",
      "28000/67519 - 12 minutes since start - estimate: 17 minutes left\n",
      "29000/67519 - 12 minutes since start - estimate: 16 minutes left\n",
      "30000/67519 - 12 minutes since start - estimate: 16 minutes left\n",
      "31000/67519 - 13 minutes since start - estimate: 15 minutes left\n",
      "32000/67519 - 13 minutes since start - estimate: 15 minutes left\n",
      "33000/67519 - 14 minutes since start - estimate: 14 minutes left\n",
      "34000/67519 - 14 minutes since start - estimate: 14 minutes left\n",
      "35000/67519 - 15 minutes since start - estimate: 14 minutes left\n",
      "36000/67519 - 15 minutes since start - estimate: 13 minutes left\n",
      "37000/67519 - 16 minutes since start - estimate: 13 minutes left\n",
      "38000/67519 - 16 minutes since start - estimate: 12 minutes left\n",
      "39000/67519 - 17 minutes since start - estimate: 12 minutes left\n",
      "40000/67519 - 17 minutes since start - estimate: 12 minutes left\n",
      "41000/67519 - 17 minutes since start - estimate: 11 minutes left\n",
      "42000/67519 - 18 minutes since start - estimate: 11 minutes left\n",
      "43000/67519 - 18 minutes since start - estimate: 10 minutes left\n",
      "44000/67519 - 19 minutes since start - estimate: 10 minutes left\n",
      "45000/67519 - 19 minutes since start - estimate: 9 minutes left\n",
      "46000/67519 - 20 minutes since start - estimate: 9 minutes left\n",
      "47000/67519 - 20 minutes since start - estimate: 8 minutes left\n",
      "48000/67519 - 20 minutes since start - estimate: 8 minutes left\n",
      "49000/67519 - 21 minutes since start - estimate: 8 minutes left\n",
      "50000/67519 - 21 minutes since start - estimate: 7 minutes left\n",
      "51000/67519 - 22 minutes since start - estimate: 7 minutes left\n",
      "52000/67519 - 22 minutes since start - estimate: 6 minutes left\n",
      "53000/67519 - 23 minutes since start - estimate: 6 minutes left\n",
      "54000/67519 - 23 minutes since start - estimate: 5 minutes left\n",
      "55000/67519 - 24 minutes since start - estimate: 5 minutes left\n",
      "56000/67519 - 24 minutes since start - estimate: 5 minutes left\n",
      "57000/67519 - 24 minutes since start - estimate: 4 minutes left\n",
      "58000/67519 - 25 minutes since start - estimate: 4 minutes left\n",
      "59000/67519 - 25 minutes since start - estimate: 3 minutes left\n",
      "60000/67519 - 26 minutes since start - estimate: 3 minutes left\n",
      "61000/67519 - 26 minutes since start - estimate: 2 minutes left\n",
      "62000/67519 - 27 minutes since start - estimate: 2 minutes left\n",
      "63000/67519 - 27 minutes since start - estimate: 1 minutes left\n",
      "64000/67519 - 27 minutes since start - estimate: 1 minutes left\n",
      "65000/67519 - 28 minutes since start - estimate: 1 minutes left\n",
      "66000/67519 - 28 minutes since start - estimate: 0 minutes left\n",
      "67000/67519 - 29 minutes since start - estimate: 0 minutes left\n",
      "clean_text_serie() is finished!\n"
     ]
    }
   ],
   "source": [
    "df = clean_text_serie(df, \"pros\")"
   ]
  },
  {
   "cell_type": "code",
   "execution_count": 17,
   "metadata": {},
   "outputs": [
    {
     "name": "stdout",
     "output_type": "stream",
     "text": [
      "clean_text_serie() is going to take some time...\n"
     ]
    },
    {
     "name": "stderr",
     "output_type": "stream",
     "text": [
      "/usr/lib/python3/dist-packages/ipykernel_launcher.py:28: SettingWithCopyWarning: \n",
      "A value is trying to be set on a copy of a slice from a DataFrame\n",
      "\n",
      "See the caveats in the documentation: http://pandas.pydata.org/pandas-docs/stable/indexing.html#indexing-view-versus-copy\n"
     ]
    },
    {
     "name": "stdout",
     "output_type": "stream",
     "text": [
      "1000/67519 - 0 minutes since start - estimate: 28 minutes left\n",
      "2000/67519 - 0 minutes since start - estimate: 28 minutes left\n",
      "3000/67519 - 1 minutes since start - estimate: 27 minutes left\n",
      "4000/67519 - 1 minutes since start - estimate: 27 minutes left\n",
      "5000/67519 - 2 minutes since start - estimate: 26 minutes left\n",
      "6000/67519 - 2 minutes since start - estimate: 26 minutes left\n",
      "7000/67519 - 2 minutes since start - estimate: 25 minutes left\n",
      "8000/67519 - 3 minutes since start - estimate: 25 minutes left\n",
      "9000/67519 - 3 minutes since start - estimate: 25 minutes left\n",
      "10000/67519 - 4 minutes since start - estimate: 24 minutes left\n",
      "11000/67519 - 4 minutes since start - estimate: 24 minutes left\n",
      "12000/67519 - 5 minutes since start - estimate: 23 minutes left\n",
      "13000/67519 - 5 minutes since start - estimate: 23 minutes left\n",
      "14000/67519 - 5 minutes since start - estimate: 22 minutes left\n",
      "15000/67519 - 6 minutes since start - estimate: 22 minutes left\n",
      "16000/67519 - 6 minutes since start - estimate: 22 minutes left\n",
      "17000/67519 - 7 minutes since start - estimate: 21 minutes left\n",
      "18000/67519 - 7 minutes since start - estimate: 21 minutes left\n",
      "19000/67519 - 8 minutes since start - estimate: 20 minutes left\n",
      "20000/67519 - 8 minutes since start - estimate: 20 minutes left\n",
      "21000/67519 - 9 minutes since start - estimate: 19 minutes left\n",
      "22000/67519 - 9 minutes since start - estimate: 19 minutes left\n",
      "23000/67519 - 9 minutes since start - estimate: 19 minutes left\n",
      "24000/67519 - 10 minutes since start - estimate: 18 minutes left\n",
      "25000/67519 - 10 minutes since start - estimate: 18 minutes left\n",
      "26000/67519 - 11 minutes since start - estimate: 17 minutes left\n",
      "27000/67519 - 11 minutes since start - estimate: 17 minutes left\n",
      "28000/67519 - 12 minutes since start - estimate: 16 minutes left\n",
      "29000/67519 - 12 minutes since start - estimate: 16 minutes left\n",
      "30000/67519 - 12 minutes since start - estimate: 16 minutes left\n",
      "31000/67519 - 13 minutes since start - estimate: 15 minutes left\n",
      "32000/67519 - 13 minutes since start - estimate: 15 minutes left\n",
      "33000/67519 - 14 minutes since start - estimate: 14 minutes left\n",
      "34000/67519 - 14 minutes since start - estimate: 14 minutes left\n",
      "35000/67519 - 15 minutes since start - estimate: 13 minutes left\n",
      "36000/67519 - 15 minutes since start - estimate: 13 minutes left\n",
      "37000/67519 - 15 minutes since start - estimate: 13 minutes left\n",
      "38000/67519 - 16 minutes since start - estimate: 12 minutes left\n",
      "39000/67519 - 16 minutes since start - estimate: 12 minutes left\n",
      "40000/67519 - 17 minutes since start - estimate: 11 minutes left\n",
      "41000/67519 - 17 minutes since start - estimate: 11 minutes left\n",
      "42000/67519 - 18 minutes since start - estimate: 10 minutes left\n",
      "43000/67519 - 18 minutes since start - estimate: 10 minutes left\n",
      "44000/67519 - 18 minutes since start - estimate: 10 minutes left\n",
      "45000/67519 - 19 minutes since start - estimate: 9 minutes left\n",
      "46000/67519 - 19 minutes since start - estimate: 9 minutes left\n",
      "47000/67519 - 20 minutes since start - estimate: 8 minutes left\n",
      "48000/67519 - 20 minutes since start - estimate: 8 minutes left\n",
      "49000/67519 - 21 minutes since start - estimate: 7 minutes left\n",
      "50000/67519 - 21 minutes since start - estimate: 7 minutes left\n",
      "51000/67519 - 21 minutes since start - estimate: 7 minutes left\n",
      "52000/67519 - 22 minutes since start - estimate: 6 minutes left\n",
      "53000/67519 - 22 minutes since start - estimate: 6 minutes left\n",
      "54000/67519 - 23 minutes since start - estimate: 5 minutes left\n",
      "55000/67519 - 23 minutes since start - estimate: 5 minutes left\n",
      "56000/67519 - 23 minutes since start - estimate: 4 minutes left\n",
      "57000/67519 - 24 minutes since start - estimate: 4 minutes left\n",
      "58000/67519 - 24 minutes since start - estimate: 4 minutes left\n",
      "59000/67519 - 25 minutes since start - estimate: 3 minutes left\n",
      "60000/67519 - 25 minutes since start - estimate: 3 minutes left\n",
      "61000/67519 - 26 minutes since start - estimate: 2 minutes left\n",
      "62000/67519 - 26 minutes since start - estimate: 2 minutes left\n",
      "63000/67519 - 26 minutes since start - estimate: 1 minutes left\n",
      "64000/67519 - 27 minutes since start - estimate: 1 minutes left\n",
      "65000/67519 - 27 minutes since start - estimate: 1 minutes left\n",
      "66000/67519 - 28 minutes since start - estimate: 0 minutes left\n",
      "67000/67519 - 28 minutes since start - estimate: 0 minutes left\n",
      "clean_text_serie() is finished!\n"
     ]
    }
   ],
   "source": [
    "df = clean_text_serie(df, \"cons\")"
   ]
  },
  {
   "cell_type": "code",
   "execution_count": 18,
   "metadata": {},
   "outputs": [],
   "source": [
    "df.to_csv(r\"all_processed.csv\")"
   ]
  },
  {
   "cell_type": "code",
   "execution_count": null,
   "metadata": {},
   "outputs": [],
   "source": [
    "for i, row in df.iterrows():\n",
    "    print(df.iloc[i][\"summary\"])"
   ]
  },
  {
   "cell_type": "code",
   "execution_count": null,
   "metadata": {},
   "outputs": [],
   "source": []
  },
  {
   "cell_type": "code",
   "execution_count": 15,
   "metadata": {},
   "outputs": [
    {
     "data": {
      "text/plain": [
       "67524            enrich experi beginn bad long term growth\n",
       "67525                              complex interest experi\n",
       "67526                                      good place work\n",
       "67527    competit work place overload work item grow po...\n",
       "67528                                            use great\n",
       "Name: summary, dtype: object"
      ]
     },
     "execution_count": 15,
     "metadata": {},
     "output_type": "execute_result"
    }
   ],
   "source": [
    "df.tail()[\"summary\"]"
   ]
  },
  {
   "cell_type": "code",
   "execution_count": null,
   "metadata": {},
   "outputs": [],
   "source": []
  }
 ],
 "metadata": {
  "kernelspec": {
   "display_name": "Python 3",
   "language": "python",
   "name": "python3"
  },
  "language_info": {
   "codemirror_mode": {
    "name": "ipython",
    "version": 3
   },
   "file_extension": ".py",
   "mimetype": "text/x-python",
   "name": "python",
   "nbconvert_exporter": "python",
   "pygments_lexer": "ipython3",
   "version": "3.6.7"
  }
 },
 "nbformat": 4,
 "nbformat_minor": 2
}
