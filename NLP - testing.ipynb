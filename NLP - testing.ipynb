{
 "cells": [
  {
   "cell_type": "code",
   "execution_count": 1,
   "metadata": {},
   "outputs": [
    {
     "name": "stdout",
     "output_type": "stream",
     "text": [
      "Populating the interactive namespace from numpy and matplotlib\n"
     ]
    }
   ],
   "source": [
    "%pylab inline\n",
    "import pandas as pd"
   ]
  },
  {
   "cell_type": "code",
   "execution_count": 2,
   "metadata": {},
   "outputs": [],
   "source": [
    "df = pd.read_csv(\"employee_reviews.csv\")"
   ]
  },
  {
   "cell_type": "code",
   "execution_count": 3,
   "metadata": {
    "scrolled": false
   },
   "outputs": [
    {
     "data": {
      "text/html": [
       "<div>\n",
       "<style scoped>\n",
       "    .dataframe tbody tr th:only-of-type {\n",
       "        vertical-align: middle;\n",
       "    }\n",
       "\n",
       "    .dataframe tbody tr th {\n",
       "        vertical-align: top;\n",
       "    }\n",
       "\n",
       "    .dataframe thead th {\n",
       "        text-align: right;\n",
       "    }\n",
       "</style>\n",
       "<table border=\"1\" class=\"dataframe\">\n",
       "  <thead>\n",
       "    <tr style=\"text-align: right;\">\n",
       "      <th></th>\n",
       "      <th>Unnamed: 0</th>\n",
       "      <th>company</th>\n",
       "      <th>location</th>\n",
       "      <th>dates</th>\n",
       "      <th>job-title</th>\n",
       "      <th>summary</th>\n",
       "      <th>pros</th>\n",
       "      <th>cons</th>\n",
       "      <th>advice-to-mgmt</th>\n",
       "      <th>overall-ratings</th>\n",
       "      <th>work-balance-stars</th>\n",
       "      <th>culture-values-stars</th>\n",
       "      <th>carrer-opportunities-stars</th>\n",
       "      <th>comp-benefit-stars</th>\n",
       "      <th>senior-mangemnet-stars</th>\n",
       "      <th>helpful-count</th>\n",
       "      <th>link</th>\n",
       "    </tr>\n",
       "  </thead>\n",
       "  <tbody>\n",
       "    <tr>\n",
       "      <th>0</th>\n",
       "      <td>1</td>\n",
       "      <td>google</td>\n",
       "      <td>none</td>\n",
       "      <td>Dec 11, 2018</td>\n",
       "      <td>Current Employee - Anonymous Employee</td>\n",
       "      <td>Best Company to work for</td>\n",
       "      <td>People are smart and friendly</td>\n",
       "      <td>Bureaucracy is slowing things down</td>\n",
       "      <td>none</td>\n",
       "      <td>5.0</td>\n",
       "      <td>4.0</td>\n",
       "      <td>5.0</td>\n",
       "      <td>5.0</td>\n",
       "      <td>4.0</td>\n",
       "      <td>5.0</td>\n",
       "      <td>0</td>\n",
       "      <td>https://www.glassdoor.com/Reviews/Google-Revie...</td>\n",
       "    </tr>\n",
       "  </tbody>\n",
       "</table>\n",
       "</div>"
      ],
      "text/plain": [
       "   Unnamed: 0 company location          dates  \\\n",
       "0           1  google     none   Dec 11, 2018   \n",
       "\n",
       "                               job-title                   summary  \\\n",
       "0  Current Employee - Anonymous Employee  Best Company to work for   \n",
       "\n",
       "                            pros                                cons  \\\n",
       "0  People are smart and friendly  Bureaucracy is slowing things down   \n",
       "\n",
       "  advice-to-mgmt  overall-ratings work-balance-stars culture-values-stars  \\\n",
       "0           none              5.0                4.0                  5.0   \n",
       "\n",
       "  carrer-opportunities-stars comp-benefit-stars senior-mangemnet-stars  \\\n",
       "0                        5.0                4.0                    5.0   \n",
       "\n",
       "   helpful-count                                               link  \n",
       "0              0  https://www.glassdoor.com/Reviews/Google-Revie...  "
      ]
     },
     "execution_count": 3,
     "metadata": {},
     "output_type": "execute_result"
    }
   ],
   "source": [
    "df.head(1)"
   ]
  },
  {
   "cell_type": "code",
   "execution_count": 4,
   "metadata": {},
   "outputs": [
    {
     "data": {
      "text/plain": [
       "67529"
      ]
     },
     "execution_count": 4,
     "metadata": {},
     "output_type": "execute_result"
    }
   ],
   "source": [
    "df.count()[0]"
   ]
  },
  {
   "cell_type": "code",
   "execution_count": 5,
   "metadata": {},
   "outputs": [],
   "source": [
    "def clean_clmn(df, clmn_name):\n",
    "    df = df[df[clmn_name] != \"none\"]\n",
    "    print()\n",
    "    #df = df[df[clmn_name].dtypes is str]"
   ]
  },
  {
   "cell_type": "code",
   "execution_count": 6,
   "metadata": {},
   "outputs": [],
   "source": [
    "#df[\"summary\"]"
   ]
  },
  {
   "cell_type": "code",
   "execution_count": 7,
   "metadata": {},
   "outputs": [
    {
     "name": "stdout",
     "output_type": "stream",
     "text": [
      "\n"
     ]
    },
    {
     "data": {
      "text/plain": [
       "0                                 Best Company to work for\n",
       "1        Moving at the speed of light, burn out is inev...\n",
       "2        Great balance between big-company security and...\n",
       "3        The best place I've worked and also the most d...\n",
       "4                          Unique, one of a kind dream job\n",
       "5                      NICE working in GOOGLE as an INTERN\n",
       "6                                        Software engineer\n",
       "7                         great place to work and progress\n",
       "8                  Google Surpasses Realistic Expectations\n",
       "9                                 Execellent for engineers\n",
       "10                                      Nice place to work\n",
       "11                                       Software Engineer\n",
       "12                               Best Company to Work For!\n",
       "13                           Still the best place to work!\n",
       "14                                              Mba Intern\n",
       "15                                                  Review\n",
       "16                                        Review of Google\n",
       "17                                                Analysts\n",
       "18                        Great Company With No Down Sides\n",
       "19                                  Senior Account Manager\n",
       "20                   Great, but great can always be better\n",
       "21                               Great company to work for\n",
       "22                                                     NaN\n",
       "23                                       Software Engineer\n",
       "24                                              Accountant\n",
       "25                                Good Company to Work for\n",
       "26                                           Great culture\n",
       "27       Not perfect, but still the best place in the w...\n",
       "28                                     Great place to work\n",
       "29                                                   Great\n",
       "                               ...                        \n",
       "67499                                      Good experience\n",
       "67500    Started kind of shaky, but things are getting ...\n",
       "67501    I would definitely join the company if I grab ...\n",
       "67502                                Good software company\n",
       "67503                       was once a great place to work\n",
       "67504                        Great experience and exposure\n",
       "67505                 Great experience - but much pressure\n",
       "67506    It was always difficult, whether it was a mult...\n",
       "67507                                        Great company\n",
       "67508                                  Interesting.... :-)\n",
       "67509                                  Interesting.... :-)\n",
       "67510    Work life balance is great, Compensation is no...\n",
       "67511                                                 GTSC\n",
       "67512           Overall good, however, it depends on group\n",
       "67513                                     Good career path\n",
       "67514    A stable company but still is not for lazy people\n",
       "67515    A: Who do you work for? Me: Microsoft A: I gue...\n",
       "67516                         Mixed - depends on the group\n",
       "67517    if you can work 10-12 hours everyday on regula...\n",
       "67518      Not the cult it used to be - far more a job now\n",
       "67519                              Having fun at Microsoft\n",
       "67520                                a good learning place\n",
       "67521                           Microsoft Services is bad.\n",
       "67522    I started off great some years ago but lately ...\n",
       "67523                                        Good company.\n",
       "67524    Enriching experience for a beginner but bad fo...\n",
       "67525                 A complex and interesting experience\n",
       "67526                                   Good Place to Work\n",
       "67527    It's a competitive work place, with overload w...\n",
       "67528                                     Used to be great\n",
       "Name: summary, Length: 67529, dtype: object"
      ]
     },
     "execution_count": 7,
     "metadata": {},
     "output_type": "execute_result"
    }
   ],
   "source": [
    "clean_clmn(df, \"summary\")\n",
    "df[\"summary\"]"
   ]
  },
  {
   "cell_type": "code",
   "execution_count": 8,
   "metadata": {},
   "outputs": [
    {
     "data": {
      "text/plain": [
       "9"
      ]
     },
     "execution_count": 8,
     "metadata": {},
     "output_type": "execute_result"
    }
   ],
   "source": [
    "df[df[\"summary\"] == \"none\"].count()[0]"
   ]
  },
  {
   "cell_type": "code",
   "execution_count": 9,
   "metadata": {},
   "outputs": [],
   "source": [
    "df = df[df[\"summary\"] != \"none\"]"
   ]
  },
  {
   "cell_type": "code",
   "execution_count": 10,
   "metadata": {},
   "outputs": [
    {
     "data": {
      "text/plain": [
       "0"
      ]
     },
     "execution_count": 10,
     "metadata": {},
     "output_type": "execute_result"
    }
   ],
   "source": [
    "df[df[\"pros\"] == \"none\"].count()[0]"
   ]
  },
  {
   "cell_type": "code",
   "execution_count": 11,
   "metadata": {},
   "outputs": [
    {
     "data": {
      "text/plain": [
       "1"
      ]
     },
     "execution_count": 11,
     "metadata": {},
     "output_type": "execute_result"
    }
   ],
   "source": [
    "df[df[\"cons\"] == \"none\"].count()[0]"
   ]
  },
  {
   "cell_type": "code",
   "execution_count": 12,
   "metadata": {},
   "outputs": [],
   "source": [
    "df = df[df[\"cons\"] != \"none\"]"
   ]
  },
  {
   "cell_type": "code",
   "execution_count": 13,
   "metadata": {},
   "outputs": [],
   "source": [
    "import re\n",
    "import nltk\n",
    "#nltk.download(\"stopwords\")\n",
    "from nltk.corpus import stopwords\n",
    "from nltk.stem.porter import PorterStemmer\n",
    "\n",
    "stopwords = set(stopwords.words(\"english\"))\n",
    "ps = PorterStemmer()\n",
    "\n"
   ]
  },
  {
   "cell_type": "code",
   "execution_count": 14,
   "metadata": {},
   "outputs": [],
   "source": [
    "def clean_texts(serie_to_clean):\n",
    "    print(\"clean_texts() is going to take some time...\")\n",
    "    j = 1000\n",
    "    for i in range(serie_to_clean.count()):\n",
    "        if (i == j):\n",
    "            print(i)\n",
    "            j+=1000\n",
    "        if (i not in df.index):\n",
    "            continue\n",
    "        cleaned = serie_to_clean[i]\n",
    "        if(type(cleaned) is float and np.isnan(cleaned)):\n",
    "            cleaned = \"\"\n",
    "        cleaned = re.sub(\"[^a-zA-Z]\", \" \", cleaned)\n",
    "        cleaned = cleaned.lower()\n",
    "        cleaned = cleaned.split()\n",
    "        cleaned = [ps.stem(word) for word in cleaned if not word in stopwords]\n",
    "        serie_to_clean[i] = \" \".join(cleaned)\n",
    "    \n",
    "    print(\"clean_texts() is finished!\")\n",
    "    return serie_to_clean"
   ]
  },
  {
   "cell_type": "code",
   "execution_count": 15,
   "metadata": {},
   "outputs": [
    {
     "data": {
      "text/plain": [
       "67399"
      ]
     },
     "execution_count": 15,
     "metadata": {},
     "output_type": "execute_result"
    }
   ],
   "source": [
    "serie = df[\"summary\"]\n",
    "serie.count()"
   ]
  },
  {
   "cell_type": "code",
   "execution_count": 16,
   "metadata": {},
   "outputs": [
    {
     "name": "stdout",
     "output_type": "stream",
     "text": [
      "clean_texts() is going to take some time...\n"
     ]
    },
    {
     "name": "stderr",
     "output_type": "stream",
     "text": [
      "/usr/lib/python3/dist-packages/ipykernel_launcher.py:17: SettingWithCopyWarning: \n",
      "A value is trying to be set on a copy of a slice from a DataFrame\n",
      "\n",
      "See the caveats in the documentation: http://pandas.pydata.org/pandas-docs/stable/indexing.html#indexing-view-versus-copy\n"
     ]
    },
    {
     "name": "stdout",
     "output_type": "stream",
     "text": [
      "1000\n",
      "2000\n",
      "3000\n",
      "4000\n",
      "5000\n",
      "6000\n",
      "7000\n",
      "8000\n",
      "9000\n",
      "10000\n",
      "11000\n",
      "12000\n",
      "13000\n",
      "14000\n",
      "15000\n",
      "16000\n",
      "17000\n",
      "18000\n",
      "19000\n",
      "20000\n",
      "21000\n",
      "22000\n",
      "23000\n",
      "24000\n",
      "25000\n",
      "26000\n",
      "27000\n",
      "28000\n",
      "29000\n",
      "30000\n",
      "31000\n",
      "32000\n",
      "33000\n",
      "34000\n",
      "35000\n",
      "36000\n",
      "37000\n",
      "38000\n",
      "39000\n",
      "40000\n",
      "41000\n",
      "42000\n",
      "43000\n",
      "44000\n",
      "45000\n",
      "46000\n",
      "47000\n",
      "48000\n",
      "49000\n",
      "50000\n",
      "51000\n",
      "52000\n",
      "53000\n",
      "54000\n",
      "55000\n",
      "56000\n",
      "57000\n",
      "58000\n",
      "59000\n",
      "60000\n",
      "61000\n",
      "62000\n",
      "63000\n",
      "64000\n",
      "65000\n",
      "66000\n",
      "67000\n",
      "clean_texts() is finished!\n"
     ]
    },
    {
     "data": {
      "text/plain": [
       "0                                        best compani work\n",
       "1                             move speed light burn inevit\n",
       "2        great balanc big compani secur fun fast move p...\n",
       "3                              best place work also demand\n",
       "4                                 uniqu one kind dream job\n",
       "5                                   nice work googl intern\n",
       "6                                            softwar engin\n",
       "7                                great place work progress\n",
       "8                             googl surpass realist expect\n",
       "9                                             execel engin\n",
       "10                                         nice place work\n",
       "11                                           softwar engin\n",
       "12                                       best compani work\n",
       "13                                   still best place work\n",
       "14                                              mba intern\n",
       "15                                                  review\n",
       "16                                            review googl\n",
       "17                                                 analyst\n",
       "18                                      great compani side\n",
       "19                                    senior account manag\n",
       "20                                great great alway better\n",
       "21                                      great compani work\n",
       "22                                                        \n",
       "23                                           softwar engin\n",
       "24                                                 account\n",
       "25                                       good compani work\n",
       "26                                            great cultur\n",
       "27                     perfect still best place world work\n",
       "28                                        great place work\n",
       "29                                                   great\n",
       "                               ...                        \n",
       "67499                                      Good experience\n",
       "67500    Started kind of shaky, but things are getting ...\n",
       "67501    I would definitely join the company if I grab ...\n",
       "67502                                Good software company\n",
       "67503                       was once a great place to work\n",
       "67504                        Great experience and exposure\n",
       "67505                 Great experience - but much pressure\n",
       "67506    It was always difficult, whether it was a mult...\n",
       "67507                                        Great company\n",
       "67508                                  Interesting.... :-)\n",
       "67509                                  Interesting.... :-)\n",
       "67510    Work life balance is great, Compensation is no...\n",
       "67511                                                 GTSC\n",
       "67512           Overall good, however, it depends on group\n",
       "67513                                     Good career path\n",
       "67514    A stable company but still is not for lazy people\n",
       "67515    A: Who do you work for? Me: Microsoft A: I gue...\n",
       "67516                         Mixed - depends on the group\n",
       "67517    if you can work 10-12 hours everyday on regula...\n",
       "67518      Not the cult it used to be - far more a job now\n",
       "67519                              Having fun at Microsoft\n",
       "67520                                a good learning place\n",
       "67521                           Microsoft Services is bad.\n",
       "67522    I started off great some years ago but lately ...\n",
       "67523                                        Good company.\n",
       "67524    Enriching experience for a beginner but bad fo...\n",
       "67525                 A complex and interesting experience\n",
       "67526                                   Good Place to Work\n",
       "67527    It's a competitive work place, with overload w...\n",
       "67528                                     Used to be great\n",
       "Name: summary, Length: 67519, dtype: object"
      ]
     },
     "execution_count": 16,
     "metadata": {},
     "output_type": "execute_result"
    }
   ],
   "source": [
    "clean_texts(df[\"summary\"])"
   ]
  },
  {
   "cell_type": "code",
   "execution_count": 17,
   "metadata": {},
   "outputs": [
    {
     "name": "stdout",
     "output_type": "stream",
     "text": [
      "\n"
     ]
    },
    {
     "data": {
      "text/plain": [
       "0                                        best compani work\n",
       "1                             move speed light burn inevit\n",
       "2        great balanc big compani secur fun fast move p...\n",
       "3                              best place work also demand\n",
       "4                                 uniqu one kind dream job\n",
       "5                                   nice work googl intern\n",
       "6                                            softwar engin\n",
       "7                                great place work progress\n",
       "8                             googl surpass realist expect\n",
       "9                                             execel engin\n",
       "10                                         nice place work\n",
       "11                                           softwar engin\n",
       "12                                       best compani work\n",
       "13                                   still best place work\n",
       "14                                              mba intern\n",
       "15                                                  review\n",
       "16                                            review googl\n",
       "17                                                 analyst\n",
       "18                                      great compani side\n",
       "19                                    senior account manag\n",
       "20                                great great alway better\n",
       "21                                      great compani work\n",
       "22                                                        \n",
       "23                                           softwar engin\n",
       "24                                                 account\n",
       "25                                       good compani work\n",
       "26                                            great cultur\n",
       "27                     perfect still best place world work\n",
       "28                                        great place work\n",
       "29                                                   great\n",
       "                               ...                        \n",
       "67499                                      Good experience\n",
       "67500    Started kind of shaky, but things are getting ...\n",
       "67501    I would definitely join the company if I grab ...\n",
       "67502                                Good software company\n",
       "67503                       was once a great place to work\n",
       "67504                        Great experience and exposure\n",
       "67505                 Great experience - but much pressure\n",
       "67506    It was always difficult, whether it was a mult...\n",
       "67507                                        Great company\n",
       "67508                                  Interesting.... :-)\n",
       "67509                                  Interesting.... :-)\n",
       "67510    Work life balance is great, Compensation is no...\n",
       "67511                                                 GTSC\n",
       "67512           Overall good, however, it depends on group\n",
       "67513                                     Good career path\n",
       "67514    A stable company but still is not for lazy people\n",
       "67515    A: Who do you work for? Me: Microsoft A: I gue...\n",
       "67516                         Mixed - depends on the group\n",
       "67517    if you can work 10-12 hours everyday on regula...\n",
       "67518      Not the cult it used to be - far more a job now\n",
       "67519                              Having fun at Microsoft\n",
       "67520                                a good learning place\n",
       "67521                           Microsoft Services is bad.\n",
       "67522    I started off great some years ago but lately ...\n",
       "67523                                        Good company.\n",
       "67524    Enriching experience for a beginner but bad fo...\n",
       "67525                 A complex and interesting experience\n",
       "67526                                   Good Place to Work\n",
       "67527    It's a competitive work place, with overload w...\n",
       "67528                                     Used to be great\n",
       "Name: summary, Length: 67519, dtype: object"
      ]
     },
     "execution_count": 17,
     "metadata": {},
     "output_type": "execute_result"
    }
   ],
   "source": [
    "clean_clmn(df, \"summary\")\n",
    "df[\"summary\"]"
   ]
  },
  {
   "cell_type": "code",
   "execution_count": 18,
   "metadata": {},
   "outputs": [
    {
     "name": "stdout",
     "output_type": "stream",
     "text": [
      "bob1\n"
     ]
    },
    {
     "ename": "KeyError",
     "evalue": "10689",
     "output_type": "error",
     "traceback": [
      "\u001b[0;31m---------------------------------------------------------------------------\u001b[0m",
      "\u001b[0;31mKeyError\u001b[0m                                  Traceback (most recent call last)",
      "\u001b[0;32m<ipython-input-18-4e2a11a77196>\u001b[0m in \u001b[0;36m<module>\u001b[0;34m()\u001b[0m\n\u001b[1;32m      1\u001b[0m \u001b[0;32mif\u001b[0m \u001b[0;34m(\u001b[0m\u001b[0;36m10689\u001b[0m \u001b[0;32mnot\u001b[0m \u001b[0;32min\u001b[0m \u001b[0mdf\u001b[0m\u001b[0;34m.\u001b[0m\u001b[0mindex\u001b[0m\u001b[0;34m)\u001b[0m\u001b[0;34m:\u001b[0m\u001b[0;34m\u001b[0m\u001b[0;34m\u001b[0m\u001b[0m\n\u001b[1;32m      2\u001b[0m     \u001b[0mprint\u001b[0m\u001b[0;34m(\u001b[0m\u001b[0;34m\"bob1\"\u001b[0m\u001b[0;34m)\u001b[0m\u001b[0;34m\u001b[0m\u001b[0;34m\u001b[0m\u001b[0m\n\u001b[0;32m----> 3\u001b[0;31m     \u001b[0mdf\u001b[0m\u001b[0;34m[\u001b[0m\u001b[0;34m\"summary\"\u001b[0m\u001b[0;34m]\u001b[0m\u001b[0;34m[\u001b[0m\u001b[0;36m10689\u001b[0m\u001b[0;34m]\u001b[0m\u001b[0;34m\u001b[0m\u001b[0;34m\u001b[0m\u001b[0m\n\u001b[0m\u001b[1;32m      4\u001b[0m \u001b[0;32melse\u001b[0m\u001b[0;34m:\u001b[0m\u001b[0;34m\u001b[0m\u001b[0;34m\u001b[0m\u001b[0m\n\u001b[1;32m      5\u001b[0m     \u001b[0mprint\u001b[0m\u001b[0;34m(\u001b[0m\u001b[0;34m\"bob\"\u001b[0m\u001b[0;34m)\u001b[0m\u001b[0;34m\u001b[0m\u001b[0;34m\u001b[0m\u001b[0m\n",
      "\u001b[0;32m/usr/local/lib/python3.6/dist-packages/pandas/core/series.py\u001b[0m in \u001b[0;36m__getitem__\u001b[0;34m(self, key)\u001b[0m\n\u001b[1;32m    866\u001b[0m         \u001b[0mkey\u001b[0m \u001b[0;34m=\u001b[0m \u001b[0mcom\u001b[0m\u001b[0;34m.\u001b[0m\u001b[0mapply_if_callable\u001b[0m\u001b[0;34m(\u001b[0m\u001b[0mkey\u001b[0m\u001b[0;34m,\u001b[0m \u001b[0mself\u001b[0m\u001b[0;34m)\u001b[0m\u001b[0;34m\u001b[0m\u001b[0;34m\u001b[0m\u001b[0m\n\u001b[1;32m    867\u001b[0m         \u001b[0;32mtry\u001b[0m\u001b[0;34m:\u001b[0m\u001b[0;34m\u001b[0m\u001b[0;34m\u001b[0m\u001b[0m\n\u001b[0;32m--> 868\u001b[0;31m             \u001b[0mresult\u001b[0m \u001b[0;34m=\u001b[0m \u001b[0mself\u001b[0m\u001b[0;34m.\u001b[0m\u001b[0mindex\u001b[0m\u001b[0;34m.\u001b[0m\u001b[0mget_value\u001b[0m\u001b[0;34m(\u001b[0m\u001b[0mself\u001b[0m\u001b[0;34m,\u001b[0m \u001b[0mkey\u001b[0m\u001b[0;34m)\u001b[0m\u001b[0;34m\u001b[0m\u001b[0;34m\u001b[0m\u001b[0m\n\u001b[0m\u001b[1;32m    869\u001b[0m \u001b[0;34m\u001b[0m\u001b[0m\n\u001b[1;32m    870\u001b[0m             \u001b[0;32mif\u001b[0m \u001b[0;32mnot\u001b[0m \u001b[0mis_scalar\u001b[0m\u001b[0;34m(\u001b[0m\u001b[0mresult\u001b[0m\u001b[0;34m)\u001b[0m\u001b[0;34m:\u001b[0m\u001b[0;34m\u001b[0m\u001b[0;34m\u001b[0m\u001b[0m\n",
      "\u001b[0;32m/usr/local/lib/python3.6/dist-packages/pandas/core/indexes/base.py\u001b[0m in \u001b[0;36mget_value\u001b[0;34m(self, series, key)\u001b[0m\n\u001b[1;32m   4373\u001b[0m         \u001b[0;32mtry\u001b[0m\u001b[0;34m:\u001b[0m\u001b[0;34m\u001b[0m\u001b[0;34m\u001b[0m\u001b[0m\n\u001b[1;32m   4374\u001b[0m             return self._engine.get_value(s, k,\n\u001b[0;32m-> 4375\u001b[0;31m                                           tz=getattr(series.dtype, 'tz', None))\n\u001b[0m\u001b[1;32m   4376\u001b[0m         \u001b[0;32mexcept\u001b[0m \u001b[0mKeyError\u001b[0m \u001b[0;32mas\u001b[0m \u001b[0me1\u001b[0m\u001b[0;34m:\u001b[0m\u001b[0;34m\u001b[0m\u001b[0;34m\u001b[0m\u001b[0m\n\u001b[1;32m   4377\u001b[0m             \u001b[0;32mif\u001b[0m \u001b[0mlen\u001b[0m\u001b[0;34m(\u001b[0m\u001b[0mself\u001b[0m\u001b[0;34m)\u001b[0m \u001b[0;34m>\u001b[0m \u001b[0;36m0\u001b[0m \u001b[0;32mand\u001b[0m \u001b[0;34m(\u001b[0m\u001b[0mself\u001b[0m\u001b[0;34m.\u001b[0m\u001b[0mholds_integer\u001b[0m\u001b[0;34m(\u001b[0m\u001b[0;34m)\u001b[0m \u001b[0;32mor\u001b[0m \u001b[0mself\u001b[0m\u001b[0;34m.\u001b[0m\u001b[0mis_boolean\u001b[0m\u001b[0;34m(\u001b[0m\u001b[0;34m)\u001b[0m\u001b[0;34m)\u001b[0m\u001b[0;34m:\u001b[0m\u001b[0;34m\u001b[0m\u001b[0;34m\u001b[0m\u001b[0m\n",
      "\u001b[0;32mpandas/_libs/index.pyx\u001b[0m in \u001b[0;36mpandas._libs.index.IndexEngine.get_value\u001b[0;34m()\u001b[0m\n",
      "\u001b[0;32mpandas/_libs/index.pyx\u001b[0m in \u001b[0;36mpandas._libs.index.IndexEngine.get_value\u001b[0;34m()\u001b[0m\n",
      "\u001b[0;32mpandas/_libs/index.pyx\u001b[0m in \u001b[0;36mpandas._libs.index.IndexEngine.get_loc\u001b[0;34m()\u001b[0m\n",
      "\u001b[0;32mpandas/_libs/hashtable_class_helper.pxi\u001b[0m in \u001b[0;36mpandas._libs.hashtable.Int64HashTable.get_item\u001b[0;34m()\u001b[0m\n",
      "\u001b[0;32mpandas/_libs/hashtable_class_helper.pxi\u001b[0m in \u001b[0;36mpandas._libs.hashtable.Int64HashTable.get_item\u001b[0;34m()\u001b[0m\n",
      "\u001b[0;31mKeyError\u001b[0m: 10689"
     ]
    }
   ],
   "source": [
    "if (10689 not in df.index):\n",
    "    print(\"bob1\")\n",
    "    df[\"summary\"][10689]\n",
    "else:\n",
    "    print(\"bob\")"
   ]
  },
  {
   "cell_type": "code",
   "execution_count": 20,
   "metadata": {},
   "outputs": [],
   "source": [
    "df.to_csv(r\"summary_processed.csv\")"
   ]
  },
  {
   "cell_type": "code",
   "execution_count": null,
   "metadata": {},
   "outputs": [],
   "source": []
  }
 ],
 "metadata": {
  "kernelspec": {
   "display_name": "Python 3",
   "language": "python",
   "name": "python3"
  },
  "language_info": {
   "codemirror_mode": {
    "name": "ipython",
    "version": 3
   },
   "file_extension": ".py",
   "mimetype": "text/x-python",
   "name": "python",
   "nbconvert_exporter": "python",
   "pygments_lexer": "ipython3",
   "version": "3.6.7"
  }
 },
 "nbformat": 4,
 "nbformat_minor": 2
}
